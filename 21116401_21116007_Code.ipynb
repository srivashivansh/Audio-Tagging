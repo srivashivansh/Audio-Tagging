{
  "nbformat": 4,
  "nbformat_minor": 0,
  "metadata": {
    "colab": {
      "name": "Audio_Class.ipynb",
      "provenance": [],
      "collapsed_sections": []
    },
    "kernelspec": {
      "name": "python3",
      "display_name": "Python 3"
    },
    "language_info": {
      "name": "python"
    }
  },
  "cells": [
    {
      "cell_type": "code",
      "metadata": {
        "id": "XlxlaASNl1hK"
      },
      "source": [
        "import pandas as pd\n",
        "import numpy as np\n",
        "import librosa\n",
        "import librosa.display\n",
        "import IPython.display as ipd\n",
        "import matplotlib.pyplot as plt\n",
        "%matplotlib inline"
      ],
      "execution_count": 1,
      "outputs": []
    },
    {
      "cell_type": "code",
      "metadata": {
        "colab": {
          "base_uri": "https://localhost:8080/"
        },
        "id": "12qA39iJfyht",
        "outputId": "4ea1f52c-0fcc-44bd-84d7-9f7af4c830bd"
      },
      "source": [
        "from google.colab import drive\n",
        "drive.mount('/content/drive')"
      ],
      "execution_count": 2,
      "outputs": [
        {
          "output_type": "stream",
          "name": "stdout",
          "text": [
            "Mounted at /content/drive\n"
          ]
        }
      ]
    },
    {
      "cell_type": "code",
      "metadata": {
        "id": "Kob4JJvLmX48"
      },
      "source": [
        "metadata = pd.read_csv('/content/drive/MyDrive/labelled_file_Sheet1.csv')"
      ],
      "execution_count": 3,
      "outputs": []
    },
    {
      "cell_type": "code",
      "metadata": {
        "colab": {
          "base_uri": "https://localhost:8080/",
          "height": 204
        },
        "id": "HrvSfoqHn4pi",
        "outputId": "d3f2a433-2acc-45c8-8807-9bf15918641c"
      },
      "source": [
        "metadata.head()"
      ],
      "execution_count": 4,
      "outputs": [
        {
          "output_type": "execute_result",
          "data": {
            "text/html": [
              "<div>\n",
              "<style scoped>\n",
              "    .dataframe tbody tr th:only-of-type {\n",
              "        vertical-align: middle;\n",
              "    }\n",
              "\n",
              "    .dataframe tbody tr th {\n",
              "        vertical-align: top;\n",
              "    }\n",
              "\n",
              "    .dataframe thead th {\n",
              "        text-align: right;\n",
              "    }\n",
              "</style>\n",
              "<table border=\"1\" class=\"dataframe\">\n",
              "  <thead>\n",
              "    <tr style=\"text-align: right;\">\n",
              "      <th></th>\n",
              "      <th>File_Name</th>\n",
              "      <th>Label</th>\n",
              "    </tr>\n",
              "  </thead>\n",
              "  <tbody>\n",
              "    <tr>\n",
              "      <th>0</th>\n",
              "      <td>music_1.wav</td>\n",
              "      <td>Music</td>\n",
              "    </tr>\n",
              "    <tr>\n",
              "      <th>1</th>\n",
              "      <td>music_2.wav</td>\n",
              "      <td>Music</td>\n",
              "    </tr>\n",
              "    <tr>\n",
              "      <th>2</th>\n",
              "      <td>music_3.wav</td>\n",
              "      <td>Music</td>\n",
              "    </tr>\n",
              "    <tr>\n",
              "      <th>3</th>\n",
              "      <td>music_4.wav</td>\n",
              "      <td>Music</td>\n",
              "    </tr>\n",
              "    <tr>\n",
              "      <th>4</th>\n",
              "      <td>music_5.wav</td>\n",
              "      <td>Music</td>\n",
              "    </tr>\n",
              "  </tbody>\n",
              "</table>\n",
              "</div>"
            ],
            "text/plain": [
              "     File_Name  Label\n",
              "0  music_1.wav  Music\n",
              "1  music_2.wav  Music\n",
              "2  music_3.wav  Music\n",
              "3  music_4.wav  Music\n",
              "4  music_5.wav  Music"
            ]
          },
          "metadata": {},
          "execution_count": 4
        }
      ]
    },
    {
      "cell_type": "code",
      "metadata": {
        "colab": {
          "base_uri": "https://localhost:8080/"
        },
        "id": "CfM8CF48oB3S",
        "outputId": "afb064eb-94b6-4cf5-fa27-ef5e9cd64f6c"
      },
      "source": [
        "metadata['Label'].value_counts()"
      ],
      "execution_count": 5,
      "outputs": [
        {
          "output_type": "execute_result",
          "data": {
            "text/plain": [
              "Music           22\n",
              "Speech          18\n",
              "Music+Speech    10\n",
              "Name: Label, dtype: int64"
            ]
          },
          "metadata": {},
          "execution_count": 5
        }
      ]
    },
    {
      "cell_type": "code",
      "metadata": {
        "id": "Tqql6KTCoVOi"
      },
      "source": [
        "import os\n",
        "audio_path = '/content/drive/MyDrive/MLSP_Gp.17/training_set_selfmade_0/'"
      ],
      "execution_count": 6,
      "outputs": []
    },
    {
      "cell_type": "code",
      "metadata": {
        "id": "QNwQ1qhPeqHE"
      },
      "source": [
        "# a, sr = librosa.load('test_sample-4.npy', res_type='kaiser_best')\n",
        "# # mfcc = librosa.feature.mfcc(y=a, sr=16000, n_mfcc=40)\n",
        "# a.shape\n",
        "sr = 16000\n",
        "my_stft = np.load('test_sample-4.npy')\n",
        "\n",
        "mels = librosa.feature.melspectrogram(S=my_stft, sr=sr, n_mels=64)\n",
        "log_mels = librosa.core.amplitude_to_db(mels, ref=np.max)\n",
        "mfcc = librosa.feature.mfcc(S=log_mels, sr=sr, n_mfcc=20)"
      ],
      "execution_count": 45,
      "outputs": []
    },
    {
      "cell_type": "code",
      "metadata": {
        "id": "6DpVBC7rpks5"
      },
      "source": [
        "def featuresExtractor(filename):\n",
        "  sample_rate = 16000\n",
        "  if filename.endswith('.npy'):\n",
        "    filepath = os.path.abspath(filename)\n",
        "    my_stft = np.load(filepath)\n",
        "    mels = librosa.feature.melspectrogram(S=my_stft, sr=sr, n_mels=64)\n",
        "    log_mels = librosa.core.amplitude_to_db(mels, ref=np.max)\n",
        "    mfccs_features = librosa.feature.mfcc(S=log_mels, sr=sr, n_mfcc=40)\n",
        "  else:\n",
        "    audio, sample_rate = librosa.load(filename, res_type='kaiser_best')\n",
        "    mfccs_features = librosa.feature.mfcc(y=audio, sr= 16000, n_mfcc=40)\n",
        "\n",
        "  mfccs_scaled_features = np.mean(mfccs_features.T, axis=0)\n",
        "  return mfccs_scaled_features"
      ],
      "execution_count": 49,
      "outputs": []
    },
    {
      "cell_type": "code",
      "metadata": {
        "colab": {
          "base_uri": "https://localhost:8080/"
        },
        "id": "EMwD9x6Qq2YE",
        "outputId": "8d381369-1414-416b-c88f-e89d6871a8e0"
      },
      "source": [
        "from tqdm import tqdm\n",
        "extracted_features=[]\n",
        "\n",
        "for index_num, row in tqdm(metadata.iterrows()):\n",
        "  file_name=os.path.join(os.path.abspath(audio_path), str(row['File_Name']))\n",
        "  final_class_labels=row['Label']\n",
        "  data = featuresExtractor(filename=file_name)\n",
        "  extracted_features.append([data, final_class_labels])"
      ],
      "execution_count": 50,
      "outputs": [
        {
          "output_type": "stream",
          "name": "stderr",
          "text": [
            "50it [00:19,  2.59it/s]\n"
          ]
        }
      ]
    },
    {
      "cell_type": "code",
      "metadata": {
        "colab": {
          "base_uri": "https://localhost:8080/",
          "height": 204
        },
        "id": "bB7yZ61ctfKb",
        "outputId": "74fa1a13-fd66-4a0c-8ed2-2a8419ecdf3f"
      },
      "source": [
        "extracted_features_df=pd.DataFrame(extracted_features,columns=['feature','label'])\n",
        "extracted_features_df.head()"
      ],
      "execution_count": 51,
      "outputs": [
        {
          "output_type": "execute_result",
          "data": {
            "text/html": [
              "<div>\n",
              "<style scoped>\n",
              "    .dataframe tbody tr th:only-of-type {\n",
              "        vertical-align: middle;\n",
              "    }\n",
              "\n",
              "    .dataframe tbody tr th {\n",
              "        vertical-align: top;\n",
              "    }\n",
              "\n",
              "    .dataframe thead th {\n",
              "        text-align: right;\n",
              "    }\n",
              "</style>\n",
              "<table border=\"1\" class=\"dataframe\">\n",
              "  <thead>\n",
              "    <tr style=\"text-align: right;\">\n",
              "      <th></th>\n",
              "      <th>feature</th>\n",
              "      <th>label</th>\n",
              "    </tr>\n",
              "  </thead>\n",
              "  <tbody>\n",
              "    <tr>\n",
              "      <th>0</th>\n",
              "      <td>[-211.58139, 84.72968, -56.21672, 46.320293, -...</td>\n",
              "      <td>Music</td>\n",
              "    </tr>\n",
              "    <tr>\n",
              "      <th>1</th>\n",
              "      <td>[-183.81102, 78.271164, -62.15846, 44.878735, ...</td>\n",
              "      <td>Music</td>\n",
              "    </tr>\n",
              "    <tr>\n",
              "      <th>2</th>\n",
              "      <td>[-210.03279, 75.51148, -55.351326, 49.253624, ...</td>\n",
              "      <td>Music</td>\n",
              "    </tr>\n",
              "    <tr>\n",
              "      <th>3</th>\n",
              "      <td>[-223.5702, 73.58966, -55.127224, 46.11475, -2...</td>\n",
              "      <td>Music</td>\n",
              "    </tr>\n",
              "    <tr>\n",
              "      <th>4</th>\n",
              "      <td>[-213.40372, 71.130905, -51.736862, 49.11726, ...</td>\n",
              "      <td>Music</td>\n",
              "    </tr>\n",
              "  </tbody>\n",
              "</table>\n",
              "</div>"
            ],
            "text/plain": [
              "                                             feature  label\n",
              "0  [-211.58139, 84.72968, -56.21672, 46.320293, -...  Music\n",
              "1  [-183.81102, 78.271164, -62.15846, 44.878735, ...  Music\n",
              "2  [-210.03279, 75.51148, -55.351326, 49.253624, ...  Music\n",
              "3  [-223.5702, 73.58966, -55.127224, 46.11475, -2...  Music\n",
              "4  [-213.40372, 71.130905, -51.736862, 49.11726, ...  Music"
            ]
          },
          "metadata": {},
          "execution_count": 51
        }
      ]
    },
    {
      "cell_type": "code",
      "metadata": {
        "id": "BydO4H7jvXUG"
      },
      "source": [
        "X=np.array(extracted_features_df['feature'].tolist())\n",
        "y=np.array(extracted_features_df['label'].tolist())"
      ],
      "execution_count": 52,
      "outputs": []
    },
    {
      "cell_type": "code",
      "metadata": {
        "colab": {
          "base_uri": "https://localhost:8080/"
        },
        "id": "kdZKgoR_wDPW",
        "outputId": "7f23550c-d4a4-44a6-e49f-57422b5478eb"
      },
      "source": [
        "X.shape"
      ],
      "execution_count": 53,
      "outputs": [
        {
          "output_type": "execute_result",
          "data": {
            "text/plain": [
              "(50, 40)"
            ]
          },
          "metadata": {},
          "execution_count": 53
        }
      ]
    },
    {
      "cell_type": "code",
      "metadata": {
        "id": "MQfTmNXKwLWa"
      },
      "source": [
        "from sklearn.preprocessing import LabelEncoder\n",
        "label_encoder=LabelEncoder()\n",
        "y=np.array(pd.get_dummies(y))"
      ],
      "execution_count": 54,
      "outputs": []
    },
    {
      "cell_type": "code",
      "metadata": {
        "id": "cMLSHcTsxXtw"
      },
      "source": [
        "from sklearn.model_selection import train_test_split\n",
        "X_train,X_test,y_train,y_test = train_test_split(X,y,test_size=0.2)"
      ],
      "execution_count": 55,
      "outputs": []
    },
    {
      "cell_type": "code",
      "metadata": {
        "colab": {
          "base_uri": "https://localhost:8080/"
        },
        "id": "u8-QhPnfyFDf",
        "outputId": "8d41551c-8706-4d7c-e03a-c14d1d894709"
      },
      "source": [
        "X_train.shape"
      ],
      "execution_count": 56,
      "outputs": [
        {
          "output_type": "execute_result",
          "data": {
            "text/plain": [
              "(40, 40)"
            ]
          },
          "metadata": {},
          "execution_count": 56
        }
      ]
    },
    {
      "cell_type": "code",
      "metadata": {
        "colab": {
          "base_uri": "https://localhost:8080/"
        },
        "id": "qa5LNuPPyJYz",
        "outputId": "7d11055a-dc75-428c-a6b3-158b4ae57b0b"
      },
      "source": [
        "y_train.shape"
      ],
      "execution_count": 57,
      "outputs": [
        {
          "output_type": "execute_result",
          "data": {
            "text/plain": [
              "(40, 3)"
            ]
          },
          "metadata": {},
          "execution_count": 57
        }
      ]
    },
    {
      "cell_type": "code",
      "metadata": {
        "colab": {
          "base_uri": "https://localhost:8080/"
        },
        "id": "Zb-5esC3yNd3",
        "outputId": "74ac4df2-e5ea-48dc-def9-ce97c0af36b6"
      },
      "source": [
        "X_test.shape"
      ],
      "execution_count": 58,
      "outputs": [
        {
          "output_type": "execute_result",
          "data": {
            "text/plain": [
              "(10, 40)"
            ]
          },
          "metadata": {},
          "execution_count": 58
        }
      ]
    },
    {
      "cell_type": "code",
      "metadata": {
        "colab": {
          "base_uri": "https://localhost:8080/"
        },
        "id": "BoQ41kADySPj",
        "outputId": "809cde4f-5a13-49a3-c279-6441bae17444"
      },
      "source": [
        "y_test.shape"
      ],
      "execution_count": 59,
      "outputs": [
        {
          "output_type": "execute_result",
          "data": {
            "text/plain": [
              "(10, 3)"
            ]
          },
          "metadata": {},
          "execution_count": 59
        }
      ]
    },
    {
      "cell_type": "code",
      "metadata": {
        "colab": {
          "base_uri": "https://localhost:8080/"
        },
        "id": "Ei1UiyFeyVG-",
        "outputId": "505a8d5a-f47b-4dd5-c536-182944ddc744"
      },
      "source": [
        "y"
      ],
      "execution_count": 60,
      "outputs": [
        {
          "output_type": "execute_result",
          "data": {
            "text/plain": [
              "array([[1, 0, 0],\n",
              "       [1, 0, 0],\n",
              "       [1, 0, 0],\n",
              "       [1, 0, 0],\n",
              "       [1, 0, 0],\n",
              "       [1, 0, 0],\n",
              "       [1, 0, 0],\n",
              "       [1, 0, 0],\n",
              "       [1, 0, 0],\n",
              "       [1, 0, 0],\n",
              "       [1, 0, 0],\n",
              "       [1, 0, 0],\n",
              "       [1, 0, 0],\n",
              "       [1, 0, 0],\n",
              "       [1, 0, 0],\n",
              "       [1, 0, 0],\n",
              "       [1, 0, 0],\n",
              "       [1, 0, 0],\n",
              "       [1, 0, 0],\n",
              "       [1, 0, 0],\n",
              "       [1, 0, 0],\n",
              "       [1, 0, 0],\n",
              "       [0, 1, 0],\n",
              "       [0, 1, 0],\n",
              "       [0, 1, 0],\n",
              "       [0, 1, 0],\n",
              "       [0, 1, 0],\n",
              "       [0, 1, 0],\n",
              "       [0, 1, 0],\n",
              "       [0, 1, 0],\n",
              "       [0, 1, 0],\n",
              "       [0, 1, 0],\n",
              "       [0, 0, 1],\n",
              "       [0, 0, 1],\n",
              "       [0, 0, 1],\n",
              "       [0, 0, 1],\n",
              "       [0, 0, 1],\n",
              "       [0, 0, 1],\n",
              "       [0, 0, 1],\n",
              "       [0, 0, 1],\n",
              "       [0, 0, 1],\n",
              "       [0, 0, 1],\n",
              "       [0, 0, 1],\n",
              "       [0, 0, 1],\n",
              "       [0, 0, 1],\n",
              "       [0, 0, 1],\n",
              "       [0, 0, 1],\n",
              "       [0, 0, 1],\n",
              "       [0, 0, 1],\n",
              "       [0, 0, 1]], dtype=uint8)"
            ]
          },
          "metadata": {},
          "execution_count": 60
        }
      ]
    },
    {
      "cell_type": "markdown",
      "metadata": {
        "id": "wNggO7l0-nra"
      },
      "source": [
        "Data Preprocessing"
      ]
    },
    {
      "cell_type": "code",
      "metadata": {
        "id": "kmE2RIvoyc-O"
      },
      "source": [
        "import tensorflow as tf"
      ],
      "execution_count": 61,
      "outputs": []
    },
    {
      "cell_type": "code",
      "metadata": {
        "id": "0GjQi9WmzD0b"
      },
      "source": [
        "from tensorflow.keras.models import Sequential\n",
        "from tensorflow.keras.layers import Dense,Dropout,Activation,Flatten\n",
        "from tensorflow.keras.optimizers import Adam\n",
        "from sklearn import metrics"
      ],
      "execution_count": 62,
      "outputs": []
    },
    {
      "cell_type": "code",
      "metadata": {
        "id": "QHW9IDu7zboJ"
      },
      "source": [
        "num_labels=y.shape[1]"
      ],
      "execution_count": 63,
      "outputs": []
    },
    {
      "cell_type": "code",
      "metadata": {
        "id": "FOaSmMlOz_fX"
      },
      "source": [
        "model=Sequential()\n",
        "###first layer\n",
        "model.add(Dense(100,input_shape=(40,)))\n",
        "model.add(Activation('relu'))\n",
        "model.add(Dropout(0.5))\n",
        "###second layer\n",
        "model.add(Dense(200))\n",
        "model.add(Activation('relu'))\n",
        "model.add(Dropout(0.5))\n",
        "###third layer\n",
        "model.add(Dense(100))\n",
        "model.add(Activation('relu'))\n",
        "model.add(Dropout(0.5))\n",
        "\n",
        "###final layer\n",
        "model.add(Dense(num_labels))\n",
        "model.add(Activation('softmax'))"
      ],
      "execution_count": 64,
      "outputs": []
    },
    {
      "cell_type": "code",
      "metadata": {
        "colab": {
          "base_uri": "https://localhost:8080/"
        },
        "id": "upWhpcwP1p-G",
        "outputId": "61466c1d-4049-445a-fc7a-e76f46ba39b8"
      },
      "source": [
        "model.summary()"
      ],
      "execution_count": 65,
      "outputs": [
        {
          "output_type": "stream",
          "name": "stdout",
          "text": [
            "Model: \"sequential_1\"\n",
            "_________________________________________________________________\n",
            " Layer (type)                Output Shape              Param #   \n",
            "=================================================================\n",
            " dense_4 (Dense)             (None, 100)               4100      \n",
            "                                                                 \n",
            " activation_4 (Activation)   (None, 100)               0         \n",
            "                                                                 \n",
            " dropout_3 (Dropout)         (None, 100)               0         \n",
            "                                                                 \n",
            " dense_5 (Dense)             (None, 200)               20200     \n",
            "                                                                 \n",
            " activation_5 (Activation)   (None, 200)               0         \n",
            "                                                                 \n",
            " dropout_4 (Dropout)         (None, 200)               0         \n",
            "                                                                 \n",
            " dense_6 (Dense)             (None, 100)               20100     \n",
            "                                                                 \n",
            " activation_6 (Activation)   (None, 100)               0         \n",
            "                                                                 \n",
            " dropout_5 (Dropout)         (None, 100)               0         \n",
            "                                                                 \n",
            " dense_7 (Dense)             (None, 3)                 303       \n",
            "                                                                 \n",
            " activation_7 (Activation)   (None, 3)                 0         \n",
            "                                                                 \n",
            "=================================================================\n",
            "Total params: 44,703\n",
            "Trainable params: 44,703\n",
            "Non-trainable params: 0\n",
            "_________________________________________________________________\n"
          ]
        }
      ]
    },
    {
      "cell_type": "code",
      "metadata": {
        "id": "hr5uPYS_1sfH"
      },
      "source": [
        "model.compile(loss='categorical_crossentropy',metrics=['accuracy'], optimizer='adam')"
      ],
      "execution_count": 66,
      "outputs": []
    },
    {
      "cell_type": "code",
      "metadata": {
        "colab": {
          "base_uri": "https://localhost:8080/"
        },
        "id": "PiqTOWHE2ik3",
        "outputId": "11db35aa-370f-4c98-8626-46cfc9b5f152"
      },
      "source": [
        "from tensorflow.keras.callbacks import ModelCheckpoint\n",
        "from datetime import datetime \n",
        "\n",
        "num_epochs = 200\n",
        "num_batch_size = 32\n",
        "\n",
        "checkpointer = ModelCheckpoint(filepath='/content/drive/MyDrive/audio_classification.hdf5', \n",
        "                               verbose=1, save_best_only=True)\n",
        "start = datetime.now()\n",
        "\n",
        "model.fit(X_train, y_train, batch_size=num_batch_size, epochs=num_epochs, validation_data=(X_test, y_test), callbacks=[checkpointer], verbose=1)\n",
        "\n",
        "\n",
        "duration = datetime.now() - start\n",
        "print(\"Training completed in time: \", duration)"
      ],
      "execution_count": 67,
      "outputs": [
        {
          "output_type": "stream",
          "name": "stdout",
          "text": [
            "Epoch 1/200\n",
            "1/2 [==============>...............] - ETA: 0s - loss: 31.2853 - accuracy: 0.3125\n",
            "Epoch 00001: val_loss improved from inf to 4.11486, saving model to /content/drive/MyDrive/audio_classification.hdf5\n",
            "2/2 [==============================] - 1s 378ms/step - loss: 28.5840 - accuracy: 0.3000 - val_loss: 4.1149 - val_accuracy: 0.2000\n",
            "Epoch 2/200\n",
            "1/2 [==============>...............] - ETA: 0s - loss: 21.9224 - accuracy: 0.3750\n",
            "Epoch 00002: val_loss did not improve from 4.11486\n",
            "2/2 [==============================] - 0s 29ms/step - loss: 20.0224 - accuracy: 0.4000 - val_loss: 4.7718 - val_accuracy: 0.4000\n",
            "Epoch 3/200\n",
            "1/2 [==============>...............] - ETA: 0s - loss: 19.4572 - accuracy: 0.4688\n",
            "Epoch 00003: val_loss did not improve from 4.11486\n",
            "2/2 [==============================] - 0s 27ms/step - loss: 20.3622 - accuracy: 0.4250 - val_loss: 6.4486 - val_accuracy: 0.3000\n",
            "Epoch 4/200\n",
            "1/2 [==============>...............] - ETA: 0s - loss: 19.3934 - accuracy: 0.4062\n",
            "Epoch 00004: val_loss did not improve from 4.11486\n",
            "2/2 [==============================] - 0s 26ms/step - loss: 17.9986 - accuracy: 0.3500 - val_loss: 6.8726 - val_accuracy: 0.5000\n",
            "Epoch 5/200\n",
            "1/2 [==============>...............] - ETA: 0s - loss: 19.8450 - accuracy: 0.4062\n",
            "Epoch 00005: val_loss did not improve from 4.11486\n",
            "2/2 [==============================] - 0s 28ms/step - loss: 19.8456 - accuracy: 0.4250 - val_loss: 6.5605 - val_accuracy: 0.6000\n",
            "Epoch 6/200\n",
            "1/2 [==============>...............] - ETA: 0s - loss: 13.2590 - accuracy: 0.4688\n",
            "Epoch 00006: val_loss did not improve from 4.11486\n",
            "2/2 [==============================] - 0s 31ms/step - loss: 13.3619 - accuracy: 0.4750 - val_loss: 6.6825 - val_accuracy: 0.6000\n",
            "Epoch 7/200\n",
            "1/2 [==============>...............] - ETA: 0s - loss: 13.6028 - accuracy: 0.4062\n",
            "Epoch 00007: val_loss did not improve from 4.11486\n",
            "2/2 [==============================] - 0s 31ms/step - loss: 15.5701 - accuracy: 0.3500 - val_loss: 7.2243 - val_accuracy: 0.4000\n",
            "Epoch 8/200\n",
            "1/2 [==============>...............] - ETA: 0s - loss: 19.2443 - accuracy: 0.4062\n",
            "Epoch 00008: val_loss did not improve from 4.11486\n",
            "2/2 [==============================] - 0s 28ms/step - loss: 19.9762 - accuracy: 0.3750 - val_loss: 7.5258 - val_accuracy: 0.4000\n",
            "Epoch 9/200\n",
            "1/2 [==============>...............] - ETA: 0s - loss: 20.0301 - accuracy: 0.4062\n",
            "Epoch 00009: val_loss did not improve from 4.11486\n",
            "2/2 [==============================] - 0s 28ms/step - loss: 19.3302 - accuracy: 0.4250 - val_loss: 7.1705 - val_accuracy: 0.4000\n",
            "Epoch 10/200\n",
            "1/2 [==============>...............] - ETA: 0s - loss: 25.0885 - accuracy: 0.4375\n",
            "Epoch 00010: val_loss did not improve from 4.11486\n",
            "2/2 [==============================] - 0s 29ms/step - loss: 25.0292 - accuracy: 0.4500 - val_loss: 6.7108 - val_accuracy: 0.5000\n",
            "Epoch 11/200\n",
            "1/2 [==============>...............] - ETA: 0s - loss: 12.0588 - accuracy: 0.5000\n",
            "Epoch 00011: val_loss did not improve from 4.11486\n",
            "2/2 [==============================] - 0s 34ms/step - loss: 11.1419 - accuracy: 0.5250 - val_loss: 5.9250 - val_accuracy: 0.5000\n",
            "Epoch 12/200\n",
            "1/2 [==============>...............] - ETA: 0s - loss: 17.9467 - accuracy: 0.3750\n",
            "Epoch 00012: val_loss did not improve from 4.11486\n",
            "2/2 [==============================] - 0s 31ms/step - loss: 18.4924 - accuracy: 0.3500 - val_loss: 4.9132 - val_accuracy: 0.6000\n",
            "Epoch 13/200\n",
            "1/2 [==============>...............] - ETA: 0s - loss: 20.1933 - accuracy: 0.3125\n",
            "Epoch 00013: val_loss did not improve from 4.11486\n",
            "2/2 [==============================] - 0s 27ms/step - loss: 20.6069 - accuracy: 0.2750 - val_loss: 4.1365 - val_accuracy: 0.6000\n",
            "Epoch 14/200\n",
            "1/2 [==============>...............] - ETA: 0s - loss: 16.0554 - accuracy: 0.4688\n",
            "Epoch 00014: val_loss improved from 4.11486 to 3.58093, saving model to /content/drive/MyDrive/audio_classification.hdf5\n",
            "2/2 [==============================] - 0s 74ms/step - loss: 14.4036 - accuracy: 0.5000 - val_loss: 3.5809 - val_accuracy: 0.6000\n",
            "Epoch 15/200\n",
            "1/2 [==============>...............] - ETA: 0s - loss: 18.8607 - accuracy: 0.3750\n",
            "Epoch 00015: val_loss improved from 3.58093 to 3.11396, saving model to /content/drive/MyDrive/audio_classification.hdf5\n",
            "2/2 [==============================] - 0s 83ms/step - loss: 19.3258 - accuracy: 0.3750 - val_loss: 3.1140 - val_accuracy: 0.6000\n",
            "Epoch 16/200\n",
            "1/2 [==============>...............] - ETA: 0s - loss: 23.5742 - accuracy: 0.3750\n",
            "Epoch 00016: val_loss improved from 3.11396 to 2.90876, saving model to /content/drive/MyDrive/audio_classification.hdf5\n",
            "2/2 [==============================] - 0s 70ms/step - loss: 22.3110 - accuracy: 0.4000 - val_loss: 2.9088 - val_accuracy: 0.7000\n",
            "Epoch 17/200\n",
            "1/2 [==============>...............] - ETA: 0s - loss: 19.5511 - accuracy: 0.3750\n",
            "Epoch 00017: val_loss improved from 2.90876 to 2.76201, saving model to /content/drive/MyDrive/audio_classification.hdf5\n",
            "2/2 [==============================] - 0s 78ms/step - loss: 17.6149 - accuracy: 0.4000 - val_loss: 2.7620 - val_accuracy: 0.7000\n",
            "Epoch 18/200\n",
            "1/2 [==============>...............] - ETA: 0s - loss: 9.0130 - accuracy: 0.5000\n",
            "Epoch 00018: val_loss improved from 2.76201 to 2.65069, saving model to /content/drive/MyDrive/audio_classification.hdf5\n",
            "2/2 [==============================] - 0s 74ms/step - loss: 7.9845 - accuracy: 0.5000 - val_loss: 2.6507 - val_accuracy: 0.7000\n",
            "Epoch 19/200\n",
            "1/2 [==============>...............] - ETA: 0s - loss: 15.8676 - accuracy: 0.3438\n",
            "Epoch 00019: val_loss improved from 2.65069 to 2.50911, saving model to /content/drive/MyDrive/audio_classification.hdf5\n",
            "2/2 [==============================] - 0s 77ms/step - loss: 15.5979 - accuracy: 0.4000 - val_loss: 2.5091 - val_accuracy: 0.5000\n",
            "Epoch 20/200\n",
            "1/2 [==============>...............] - ETA: 0s - loss: 16.2457 - accuracy: 0.3750\n",
            "Epoch 00020: val_loss improved from 2.50911 to 2.43186, saving model to /content/drive/MyDrive/audio_classification.hdf5\n",
            "2/2 [==============================] - 0s 85ms/step - loss: 14.5677 - accuracy: 0.3500 - val_loss: 2.4319 - val_accuracy: 0.5000\n",
            "Epoch 21/200\n",
            "1/2 [==============>...............] - ETA: 0s - loss: 11.2080 - accuracy: 0.4688\n",
            "Epoch 00021: val_loss did not improve from 2.43186\n",
            "2/2 [==============================] - 0s 27ms/step - loss: 9.4305 - accuracy: 0.4750 - val_loss: 2.4838 - val_accuracy: 0.5000\n",
            "Epoch 22/200\n",
            "1/2 [==============>...............] - ETA: 0s - loss: 12.8476 - accuracy: 0.3750\n",
            "Epoch 00022: val_loss did not improve from 2.43186\n",
            "2/2 [==============================] - 0s 31ms/step - loss: 11.2047 - accuracy: 0.4250 - val_loss: 2.4329 - val_accuracy: 0.5000\n",
            "Epoch 23/200\n",
            "1/2 [==============>...............] - ETA: 0s - loss: 12.2775 - accuracy: 0.3750\n",
            "Epoch 00023: val_loss improved from 2.43186 to 2.33188, saving model to /content/drive/MyDrive/audio_classification.hdf5\n",
            "2/2 [==============================] - 0s 94ms/step - loss: 10.8513 - accuracy: 0.4500 - val_loss: 2.3319 - val_accuracy: 0.5000\n",
            "Epoch 24/200\n",
            "1/2 [==============>...............] - ETA: 0s - loss: 11.4887 - accuracy: 0.5625\n",
            "Epoch 00024: val_loss improved from 2.33188 to 2.18170, saving model to /content/drive/MyDrive/audio_classification.hdf5\n",
            "2/2 [==============================] - 0s 75ms/step - loss: 10.5210 - accuracy: 0.5500 - val_loss: 2.1817 - val_accuracy: 0.5000\n",
            "Epoch 25/200\n",
            "1/2 [==============>...............] - ETA: 0s - loss: 11.0908 - accuracy: 0.5000\n",
            "Epoch 00025: val_loss improved from 2.18170 to 1.97687, saving model to /content/drive/MyDrive/audio_classification.hdf5\n",
            "2/2 [==============================] - 0s 75ms/step - loss: 12.4613 - accuracy: 0.4750 - val_loss: 1.9769 - val_accuracy: 0.5000\n",
            "Epoch 26/200\n",
            "1/2 [==============>...............] - ETA: 0s - loss: 12.8281 - accuracy: 0.3750\n",
            "Epoch 00026: val_loss improved from 1.97687 to 1.65857, saving model to /content/drive/MyDrive/audio_classification.hdf5\n",
            "2/2 [==============================] - 0s 81ms/step - loss: 12.1742 - accuracy: 0.4000 - val_loss: 1.6586 - val_accuracy: 0.5000\n",
            "Epoch 27/200\n",
            "1/2 [==============>...............] - ETA: 0s - loss: 10.0376 - accuracy: 0.3750\n",
            "Epoch 00027: val_loss improved from 1.65857 to 1.31921, saving model to /content/drive/MyDrive/audio_classification.hdf5\n",
            "2/2 [==============================] - 0s 80ms/step - loss: 10.6790 - accuracy: 0.3500 - val_loss: 1.3192 - val_accuracy: 0.5000\n",
            "Epoch 28/200\n",
            "1/2 [==============>...............] - ETA: 0s - loss: 8.1963 - accuracy: 0.5000\n",
            "Epoch 00028: val_loss improved from 1.31921 to 1.06946, saving model to /content/drive/MyDrive/audio_classification.hdf5\n",
            "2/2 [==============================] - 0s 95ms/step - loss: 10.1570 - accuracy: 0.4500 - val_loss: 1.0695 - val_accuracy: 0.5000\n",
            "Epoch 29/200\n",
            "1/2 [==============>...............] - ETA: 0s - loss: 6.2047 - accuracy: 0.5625\n",
            "Epoch 00029: val_loss improved from 1.06946 to 0.87992, saving model to /content/drive/MyDrive/audio_classification.hdf5\n",
            "2/2 [==============================] - 0s 74ms/step - loss: 7.0453 - accuracy: 0.5500 - val_loss: 0.8799 - val_accuracy: 0.7000\n",
            "Epoch 30/200\n",
            "1/2 [==============>...............] - ETA: 0s - loss: 8.1666 - accuracy: 0.4375\n",
            "Epoch 00030: val_loss improved from 0.87992 to 0.69759, saving model to /content/drive/MyDrive/audio_classification.hdf5\n",
            "2/2 [==============================] - 0s 79ms/step - loss: 7.1880 - accuracy: 0.5000 - val_loss: 0.6976 - val_accuracy: 0.7000\n",
            "Epoch 31/200\n",
            "1/2 [==============>...............] - ETA: 0s - loss: 10.1696 - accuracy: 0.4062\n",
            "Epoch 00031: val_loss improved from 0.69759 to 0.58931, saving model to /content/drive/MyDrive/audio_classification.hdf5\n",
            "2/2 [==============================] - 0s 81ms/step - loss: 8.9974 - accuracy: 0.4500 - val_loss: 0.5893 - val_accuracy: 0.7000\n",
            "Epoch 32/200\n",
            "1/2 [==============>...............] - ETA: 0s - loss: 10.5720 - accuracy: 0.4375\n",
            "Epoch 00032: val_loss improved from 0.58931 to 0.53510, saving model to /content/drive/MyDrive/audio_classification.hdf5\n",
            "2/2 [==============================] - 0s 96ms/step - loss: 10.7265 - accuracy: 0.4250 - val_loss: 0.5351 - val_accuracy: 0.7000\n",
            "Epoch 33/200\n",
            "1/2 [==============>...............] - ETA: 0s - loss: 7.2805 - accuracy: 0.5000\n",
            "Epoch 00033: val_loss improved from 0.53510 to 0.52631, saving model to /content/drive/MyDrive/audio_classification.hdf5\n",
            "2/2 [==============================] - 0s 81ms/step - loss: 9.0798 - accuracy: 0.4500 - val_loss: 0.5263 - val_accuracy: 0.7000\n",
            "Epoch 34/200\n",
            "1/2 [==============>...............] - ETA: 0s - loss: 4.4274 - accuracy: 0.5625\n",
            "Epoch 00034: val_loss improved from 0.52631 to 0.51852, saving model to /content/drive/MyDrive/audio_classification.hdf5\n",
            "2/2 [==============================] - 0s 72ms/step - loss: 5.6054 - accuracy: 0.5500 - val_loss: 0.5185 - val_accuracy: 0.7000\n",
            "Epoch 35/200\n",
            "1/2 [==============>...............] - ETA: 0s - loss: 9.0702 - accuracy: 0.4375\n",
            "Epoch 00035: val_loss improved from 0.51852 to 0.50657, saving model to /content/drive/MyDrive/audio_classification.hdf5\n",
            "2/2 [==============================] - 0s 83ms/step - loss: 10.4284 - accuracy: 0.4500 - val_loss: 0.5066 - val_accuracy: 0.7000\n",
            "Epoch 36/200\n",
            "1/2 [==============>...............] - ETA: 0s - loss: 8.9666 - accuracy: 0.4688\n",
            "Epoch 00036: val_loss did not improve from 0.50657\n",
            "2/2 [==============================] - 0s 31ms/step - loss: 8.8017 - accuracy: 0.4500 - val_loss: 0.5083 - val_accuracy: 0.7000\n",
            "Epoch 37/200\n",
            "1/2 [==============>...............] - ETA: 0s - loss: 5.3445 - accuracy: 0.5000\n",
            "Epoch 00037: val_loss improved from 0.50657 to 0.47389, saving model to /content/drive/MyDrive/audio_classification.hdf5\n",
            "2/2 [==============================] - 0s 73ms/step - loss: 7.1939 - accuracy: 0.4500 - val_loss: 0.4739 - val_accuracy: 0.8000\n",
            "Epoch 38/200\n",
            "1/2 [==============>...............] - ETA: 0s - loss: 9.0553 - accuracy: 0.6250\n",
            "Epoch 00038: val_loss improved from 0.47389 to 0.45943, saving model to /content/drive/MyDrive/audio_classification.hdf5\n",
            "2/2 [==============================] - 0s 86ms/step - loss: 8.5390 - accuracy: 0.6000 - val_loss: 0.4594 - val_accuracy: 0.8000\n",
            "Epoch 39/200\n",
            "1/2 [==============>...............] - ETA: 0s - loss: 4.4735 - accuracy: 0.6562\n",
            "Epoch 00039: val_loss did not improve from 0.45943\n",
            "2/2 [==============================] - 0s 29ms/step - loss: 4.4894 - accuracy: 0.6000 - val_loss: 0.4776 - val_accuracy: 0.8000\n",
            "Epoch 40/200\n",
            "1/2 [==============>...............] - ETA: 0s - loss: 3.0787 - accuracy: 0.6875\n",
            "Epoch 00040: val_loss did not improve from 0.45943\n",
            "2/2 [==============================] - 0s 33ms/step - loss: 3.6116 - accuracy: 0.7000 - val_loss: 0.5198 - val_accuracy: 0.8000\n",
            "Epoch 41/200\n",
            "1/2 [==============>...............] - ETA: 0s - loss: 7.6792 - accuracy: 0.4062\n",
            "Epoch 00041: val_loss did not improve from 0.45943\n",
            "2/2 [==============================] - 0s 48ms/step - loss: 6.4602 - accuracy: 0.4500 - val_loss: 0.5892 - val_accuracy: 0.7000\n",
            "Epoch 42/200\n",
            "1/2 [==============>...............] - ETA: 0s - loss: 4.4844 - accuracy: 0.6250\n",
            "Epoch 00042: val_loss did not improve from 0.45943\n",
            "2/2 [==============================] - 0s 35ms/step - loss: 5.6716 - accuracy: 0.5750 - val_loss: 0.6404 - val_accuracy: 0.5000\n",
            "Epoch 43/200\n",
            "1/2 [==============>...............] - ETA: 0s - loss: 5.7867 - accuracy: 0.4688\n",
            "Epoch 00043: val_loss did not improve from 0.45943\n",
            "2/2 [==============================] - 0s 29ms/step - loss: 6.0644 - accuracy: 0.4750 - val_loss: 0.6791 - val_accuracy: 0.5000\n",
            "Epoch 44/200\n",
            "1/2 [==============>...............] - ETA: 0s - loss: 4.9598 - accuracy: 0.5000\n",
            "Epoch 00044: val_loss did not improve from 0.45943\n",
            "2/2 [==============================] - 0s 31ms/step - loss: 5.5851 - accuracy: 0.4750 - val_loss: 0.7187 - val_accuracy: 0.6000\n",
            "Epoch 45/200\n",
            "1/2 [==============>...............] - ETA: 0s - loss: 7.0010 - accuracy: 0.4375\n",
            "Epoch 00045: val_loss did not improve from 0.45943\n",
            "2/2 [==============================] - 0s 28ms/step - loss: 6.8361 - accuracy: 0.4250 - val_loss: 0.7445 - val_accuracy: 0.6000\n",
            "Epoch 46/200\n",
            "1/2 [==============>...............] - ETA: 0s - loss: 7.2375 - accuracy: 0.4375\n",
            "Epoch 00046: val_loss did not improve from 0.45943\n",
            "2/2 [==============================] - 0s 28ms/step - loss: 6.6786 - accuracy: 0.5000 - val_loss: 0.7793 - val_accuracy: 0.7000\n",
            "Epoch 47/200\n",
            "1/2 [==============>...............] - ETA: 0s - loss: 4.3071 - accuracy: 0.5938\n",
            "Epoch 00047: val_loss did not improve from 0.45943\n",
            "2/2 [==============================] - 0s 29ms/step - loss: 4.1456 - accuracy: 0.6000 - val_loss: 0.8019 - val_accuracy: 0.7000\n",
            "Epoch 48/200\n",
            "1/2 [==============>...............] - ETA: 0s - loss: 7.5249 - accuracy: 0.5000\n",
            "Epoch 00048: val_loss did not improve from 0.45943\n",
            "2/2 [==============================] - 0s 36ms/step - loss: 7.1891 - accuracy: 0.5000 - val_loss: 0.8177 - val_accuracy: 0.7000\n",
            "Epoch 49/200\n",
            "1/2 [==============>...............] - ETA: 0s - loss: 6.1302 - accuracy: 0.4062\n",
            "Epoch 00049: val_loss did not improve from 0.45943\n",
            "2/2 [==============================] - 0s 31ms/step - loss: 5.4778 - accuracy: 0.4500 - val_loss: 0.8338 - val_accuracy: 0.7000\n",
            "Epoch 50/200\n",
            "1/2 [==============>...............] - ETA: 0s - loss: 7.0413 - accuracy: 0.4062\n",
            "Epoch 00050: val_loss did not improve from 0.45943\n",
            "2/2 [==============================] - 0s 34ms/step - loss: 7.5535 - accuracy: 0.3750 - val_loss: 0.8439 - val_accuracy: 0.7000\n",
            "Epoch 51/200\n",
            "1/2 [==============>...............] - ETA: 0s - loss: 5.8792 - accuracy: 0.5000\n",
            "Epoch 00051: val_loss did not improve from 0.45943\n",
            "2/2 [==============================] - 0s 34ms/step - loss: 5.3394 - accuracy: 0.5250 - val_loss: 0.8607 - val_accuracy: 0.7000\n",
            "Epoch 52/200\n",
            "1/2 [==============>...............] - ETA: 0s - loss: 5.9741 - accuracy: 0.5000\n",
            "Epoch 00052: val_loss did not improve from 0.45943\n",
            "2/2 [==============================] - 0s 31ms/step - loss: 5.7582 - accuracy: 0.4750 - val_loss: 0.8634 - val_accuracy: 0.7000\n",
            "Epoch 53/200\n",
            "1/2 [==============>...............] - ETA: 0s - loss: 3.6308 - accuracy: 0.5938\n",
            "Epoch 00053: val_loss did not improve from 0.45943\n",
            "2/2 [==============================] - 0s 30ms/step - loss: 3.6119 - accuracy: 0.5500 - val_loss: 0.8596 - val_accuracy: 0.7000\n",
            "Epoch 54/200\n",
            "1/2 [==============>...............] - ETA: 0s - loss: 5.9169 - accuracy: 0.4375\n",
            "Epoch 00054: val_loss did not improve from 0.45943\n",
            "2/2 [==============================] - 0s 27ms/step - loss: 5.3351 - accuracy: 0.4750 - val_loss: 0.8609 - val_accuracy: 0.6000\n",
            "Epoch 55/200\n",
            "1/2 [==============>...............] - ETA: 0s - loss: 3.2550 - accuracy: 0.5625\n",
            "Epoch 00055: val_loss did not improve from 0.45943\n",
            "2/2 [==============================] - 0s 28ms/step - loss: 3.7259 - accuracy: 0.5000 - val_loss: 0.8724 - val_accuracy: 0.5000\n",
            "Epoch 56/200\n",
            "1/2 [==============>...............] - ETA: 0s - loss: 4.5694 - accuracy: 0.5312\n",
            "Epoch 00056: val_loss did not improve from 0.45943\n",
            "2/2 [==============================] - 0s 30ms/step - loss: 4.0037 - accuracy: 0.5000 - val_loss: 0.8864 - val_accuracy: 0.5000\n",
            "Epoch 57/200\n",
            "1/2 [==============>...............] - ETA: 0s - loss: 4.1032 - accuracy: 0.5000\n",
            "Epoch 00057: val_loss did not improve from 0.45943\n",
            "2/2 [==============================] - 0s 32ms/step - loss: 4.2620 - accuracy: 0.4750 - val_loss: 0.8977 - val_accuracy: 0.5000\n",
            "Epoch 58/200\n",
            "1/2 [==============>...............] - ETA: 0s - loss: 4.5080 - accuracy: 0.6250\n",
            "Epoch 00058: val_loss did not improve from 0.45943\n",
            "2/2 [==============================] - 0s 32ms/step - loss: 4.9957 - accuracy: 0.6250 - val_loss: 0.8855 - val_accuracy: 0.5000\n",
            "Epoch 59/200\n",
            "1/2 [==============>...............] - ETA: 0s - loss: 4.6609 - accuracy: 0.5625\n",
            "Epoch 00059: val_loss did not improve from 0.45943\n",
            "2/2 [==============================] - 0s 51ms/step - loss: 4.2848 - accuracy: 0.5750 - val_loss: 0.8579 - val_accuracy: 0.5000\n",
            "Epoch 60/200\n",
            "1/2 [==============>...............] - ETA: 0s - loss: 3.7775 - accuracy: 0.5625\n",
            "Epoch 00060: val_loss did not improve from 0.45943\n",
            "2/2 [==============================] - 0s 32ms/step - loss: 4.1805 - accuracy: 0.5500 - val_loss: 0.8114 - val_accuracy: 0.5000\n",
            "Epoch 61/200\n",
            "1/2 [==============>...............] - ETA: 0s - loss: 3.7188 - accuracy: 0.5000\n",
            "Epoch 00061: val_loss did not improve from 0.45943\n",
            "2/2 [==============================] - 0s 35ms/step - loss: 3.7189 - accuracy: 0.5000 - val_loss: 0.7672 - val_accuracy: 0.5000\n",
            "Epoch 62/200\n",
            "1/2 [==============>...............] - ETA: 0s - loss: 3.8832 - accuracy: 0.5938\n",
            "Epoch 00062: val_loss did not improve from 0.45943\n",
            "2/2 [==============================] - 0s 31ms/step - loss: 4.2206 - accuracy: 0.5750 - val_loss: 0.7358 - val_accuracy: 0.5000\n",
            "Epoch 63/200\n",
            "1/2 [==============>...............] - ETA: 0s - loss: 6.0006 - accuracy: 0.4062\n",
            "Epoch 00063: val_loss did not improve from 0.45943\n",
            "2/2 [==============================] - 0s 32ms/step - loss: 5.2364 - accuracy: 0.4750 - val_loss: 0.7091 - val_accuracy: 0.5000\n",
            "Epoch 64/200\n",
            "1/2 [==============>...............] - ETA: 0s - loss: 4.3662 - accuracy: 0.5000\n",
            "Epoch 00064: val_loss did not improve from 0.45943\n",
            "2/2 [==============================] - 0s 37ms/step - loss: 5.0467 - accuracy: 0.4500 - val_loss: 0.6855 - val_accuracy: 0.5000\n",
            "Epoch 65/200\n",
            "1/2 [==============>...............] - ETA: 0s - loss: 6.0870 - accuracy: 0.4688\n",
            "Epoch 00065: val_loss did not improve from 0.45943\n",
            "2/2 [==============================] - 0s 30ms/step - loss: 5.4577 - accuracy: 0.5000 - val_loss: 0.6692 - val_accuracy: 0.6000\n",
            "Epoch 66/200\n",
            "1/2 [==============>...............] - ETA: 0s - loss: 4.4256 - accuracy: 0.5625\n",
            "Epoch 00066: val_loss did not improve from 0.45943\n",
            "2/2 [==============================] - 0s 31ms/step - loss: 4.9438 - accuracy: 0.5250 - val_loss: 0.6455 - val_accuracy: 0.7000\n",
            "Epoch 67/200\n",
            "1/2 [==============>...............] - ETA: 0s - loss: 3.8814 - accuracy: 0.5312\n",
            "Epoch 00067: val_loss did not improve from 0.45943\n",
            "2/2 [==============================] - 0s 34ms/step - loss: 3.6276 - accuracy: 0.5500 - val_loss: 0.6265 - val_accuracy: 0.7000\n",
            "Epoch 68/200\n",
            "1/2 [==============>...............] - ETA: 0s - loss: 7.1076 - accuracy: 0.4062\n",
            "Epoch 00068: val_loss did not improve from 0.45943\n",
            "2/2 [==============================] - 0s 32ms/step - loss: 6.1342 - accuracy: 0.4250 - val_loss: 0.6157 - val_accuracy: 0.7000\n",
            "Epoch 69/200\n",
            "1/2 [==============>...............] - ETA: 0s - loss: 5.3014 - accuracy: 0.5625\n",
            "Epoch 00069: val_loss did not improve from 0.45943\n",
            "2/2 [==============================] - 0s 29ms/step - loss: 5.3189 - accuracy: 0.5500 - val_loss: 0.5956 - val_accuracy: 0.7000\n",
            "Epoch 70/200\n",
            "1/2 [==============>...............] - ETA: 0s - loss: 1.7895 - accuracy: 0.6562\n",
            "Epoch 00070: val_loss did not improve from 0.45943\n",
            "2/2 [==============================] - 0s 29ms/step - loss: 2.1470 - accuracy: 0.6750 - val_loss: 0.5745 - val_accuracy: 0.7000\n",
            "Epoch 71/200\n",
            "1/2 [==============>...............] - ETA: 0s - loss: 2.5403 - accuracy: 0.5625\n",
            "Epoch 00071: val_loss did not improve from 0.45943\n",
            "2/2 [==============================] - 0s 36ms/step - loss: 2.6244 - accuracy: 0.5500 - val_loss: 0.5572 - val_accuracy: 0.7000\n",
            "Epoch 72/200\n",
            "1/2 [==============>...............] - ETA: 0s - loss: 5.4350 - accuracy: 0.5312\n",
            "Epoch 00072: val_loss did not improve from 0.45943\n",
            "2/2 [==============================] - 0s 31ms/step - loss: 4.6311 - accuracy: 0.5500 - val_loss: 0.5406 - val_accuracy: 0.7000\n",
            "Epoch 73/200\n",
            "1/2 [==============>...............] - ETA: 0s - loss: 5.1573 - accuracy: 0.4688\n",
            "Epoch 00073: val_loss did not improve from 0.45943\n",
            "2/2 [==============================] - 0s 36ms/step - loss: 4.5621 - accuracy: 0.5000 - val_loss: 0.5231 - val_accuracy: 0.7000\n",
            "Epoch 74/200\n",
            "1/2 [==============>...............] - ETA: 0s - loss: 4.2445 - accuracy: 0.5000\n",
            "Epoch 00074: val_loss did not improve from 0.45943\n",
            "2/2 [==============================] - 0s 42ms/step - loss: 4.1501 - accuracy: 0.5000 - val_loss: 0.5192 - val_accuracy: 0.7000\n",
            "Epoch 75/200\n",
            "1/2 [==============>...............] - ETA: 0s - loss: 3.7978 - accuracy: 0.4688\n",
            "Epoch 00075: val_loss did not improve from 0.45943\n",
            "2/2 [==============================] - 0s 30ms/step - loss: 3.9302 - accuracy: 0.4500 - val_loss: 0.5187 - val_accuracy: 0.7000\n",
            "Epoch 76/200\n",
            "1/2 [==============>...............] - ETA: 0s - loss: 3.4075 - accuracy: 0.5000\n",
            "Epoch 00076: val_loss did not improve from 0.45943\n",
            "2/2 [==============================] - 0s 32ms/step - loss: 3.3256 - accuracy: 0.4500 - val_loss: 0.5181 - val_accuracy: 0.7000\n",
            "Epoch 77/200\n",
            "1/2 [==============>...............] - ETA: 0s - loss: 2.8627 - accuracy: 0.6250\n",
            "Epoch 00077: val_loss did not improve from 0.45943\n",
            "2/2 [==============================] - 0s 33ms/step - loss: 3.0572 - accuracy: 0.5750 - val_loss: 0.5234 - val_accuracy: 0.7000\n",
            "Epoch 78/200\n",
            "1/2 [==============>...............] - ETA: 0s - loss: 3.4065 - accuracy: 0.5938\n",
            "Epoch 00078: val_loss did not improve from 0.45943\n",
            "2/2 [==============================] - 0s 32ms/step - loss: 3.0353 - accuracy: 0.5750 - val_loss: 0.5333 - val_accuracy: 0.7000\n",
            "Epoch 79/200\n",
            "1/2 [==============>...............] - ETA: 0s - loss: 2.3816 - accuracy: 0.6562\n",
            "Epoch 00079: val_loss did not improve from 0.45943\n",
            "2/2 [==============================] - 0s 31ms/step - loss: 2.7913 - accuracy: 0.5750 - val_loss: 0.5400 - val_accuracy: 0.7000\n",
            "Epoch 80/200\n",
            "1/2 [==============>...............] - ETA: 0s - loss: 4.1581 - accuracy: 0.5000\n",
            "Epoch 00080: val_loss did not improve from 0.45943\n",
            "2/2 [==============================] - 0s 41ms/step - loss: 4.2360 - accuracy: 0.5000 - val_loss: 0.5473 - val_accuracy: 0.7000\n",
            "Epoch 81/200\n",
            "1/2 [==============>...............] - ETA: 0s - loss: 3.1022 - accuracy: 0.5938\n",
            "Epoch 00081: val_loss did not improve from 0.45943\n",
            "2/2 [==============================] - 0s 31ms/step - loss: 2.6360 - accuracy: 0.6500 - val_loss: 0.5533 - val_accuracy: 0.7000\n",
            "Epoch 82/200\n",
            "1/2 [==============>...............] - ETA: 0s - loss: 2.6136 - accuracy: 0.6875\n",
            "Epoch 00082: val_loss did not improve from 0.45943\n",
            "2/2 [==============================] - 0s 30ms/step - loss: 2.2349 - accuracy: 0.7250 - val_loss: 0.5532 - val_accuracy: 0.7000\n",
            "Epoch 83/200\n",
            "1/2 [==============>...............] - ETA: 0s - loss: 4.9081 - accuracy: 0.5000\n",
            "Epoch 00083: val_loss did not improve from 0.45943\n",
            "2/2 [==============================] - 0s 30ms/step - loss: 4.7240 - accuracy: 0.4500 - val_loss: 0.5491 - val_accuracy: 0.7000\n",
            "Epoch 84/200\n",
            "1/2 [==============>...............] - ETA: 0s - loss: 2.7530 - accuracy: 0.6250\n",
            "Epoch 00084: val_loss did not improve from 0.45943\n",
            "2/2 [==============================] - 0s 31ms/step - loss: 3.1552 - accuracy: 0.5750 - val_loss: 0.5421 - val_accuracy: 0.7000\n",
            "Epoch 85/200\n",
            "1/2 [==============>...............] - ETA: 0s - loss: 3.1538 - accuracy: 0.5938\n",
            "Epoch 00085: val_loss did not improve from 0.45943\n",
            "2/2 [==============================] - 0s 29ms/step - loss: 3.4408 - accuracy: 0.5750 - val_loss: 0.5377 - val_accuracy: 0.7000\n",
            "Epoch 86/200\n",
            "1/2 [==============>...............] - ETA: 0s - loss: 3.4034 - accuracy: 0.5000\n",
            "Epoch 00086: val_loss did not improve from 0.45943\n",
            "2/2 [==============================] - 0s 32ms/step - loss: 3.0461 - accuracy: 0.5500 - val_loss: 0.5397 - val_accuracy: 0.7000\n",
            "Epoch 87/200\n",
            "1/2 [==============>...............] - ETA: 0s - loss: 2.8917 - accuracy: 0.5625\n",
            "Epoch 00087: val_loss did not improve from 0.45943\n",
            "2/2 [==============================] - 0s 36ms/step - loss: 2.6372 - accuracy: 0.6000 - val_loss: 0.5421 - val_accuracy: 0.7000\n",
            "Epoch 88/200\n",
            "1/2 [==============>...............] - ETA: 0s - loss: 2.6449 - accuracy: 0.5625\n",
            "Epoch 00088: val_loss did not improve from 0.45943\n",
            "2/2 [==============================] - 0s 30ms/step - loss: 2.3526 - accuracy: 0.5750 - val_loss: 0.5419 - val_accuracy: 0.7000\n",
            "Epoch 89/200\n",
            "1/2 [==============>...............] - ETA: 0s - loss: 2.7631 - accuracy: 0.5312\n",
            "Epoch 00089: val_loss did not improve from 0.45943\n",
            "2/2 [==============================] - 0s 30ms/step - loss: 2.8908 - accuracy: 0.4750 - val_loss: 0.5370 - val_accuracy: 0.7000\n",
            "Epoch 90/200\n",
            "1/2 [==============>...............] - ETA: 0s - loss: 3.0389 - accuracy: 0.5312\n",
            "Epoch 00090: val_loss did not improve from 0.45943\n",
            "2/2 [==============================] - 0s 38ms/step - loss: 3.0442 - accuracy: 0.5250 - val_loss: 0.5340 - val_accuracy: 0.7000\n",
            "Epoch 91/200\n",
            "1/2 [==============>...............] - ETA: 0s - loss: 1.4699 - accuracy: 0.5938\n",
            "Epoch 00091: val_loss did not improve from 0.45943\n",
            "2/2 [==============================] - 0s 30ms/step - loss: 1.9943 - accuracy: 0.5500 - val_loss: 0.5318 - val_accuracy: 0.7000\n",
            "Epoch 92/200\n",
            "1/2 [==============>...............] - ETA: 0s - loss: 4.1845 - accuracy: 0.5312\n",
            "Epoch 00092: val_loss did not improve from 0.45943\n",
            "2/2 [==============================] - 0s 30ms/step - loss: 3.8125 - accuracy: 0.5250 - val_loss: 0.5284 - val_accuracy: 0.7000\n",
            "Epoch 93/200\n",
            "1/2 [==============>...............] - ETA: 0s - loss: 2.2041 - accuracy: 0.6250\n",
            "Epoch 00093: val_loss did not improve from 0.45943\n",
            "2/2 [==============================] - 0s 40ms/step - loss: 2.2143 - accuracy: 0.6250 - val_loss: 0.5267 - val_accuracy: 0.7000\n",
            "Epoch 94/200\n",
            "1/2 [==============>...............] - ETA: 0s - loss: 1.7312 - accuracy: 0.5938\n",
            "Epoch 00094: val_loss did not improve from 0.45943\n",
            "2/2 [==============================] - 0s 33ms/step - loss: 1.8602 - accuracy: 0.6000 - val_loss: 0.5279 - val_accuracy: 0.7000\n",
            "Epoch 95/200\n",
            "1/2 [==============>...............] - ETA: 0s - loss: 1.5279 - accuracy: 0.6250\n",
            "Epoch 00095: val_loss did not improve from 0.45943\n",
            "2/2 [==============================] - 0s 29ms/step - loss: 1.5260 - accuracy: 0.6250 - val_loss: 0.5309 - val_accuracy: 0.7000\n",
            "Epoch 96/200\n",
            "1/2 [==============>...............] - ETA: 0s - loss: 2.9589 - accuracy: 0.5625\n",
            "Epoch 00096: val_loss did not improve from 0.45943\n",
            "2/2 [==============================] - 0s 33ms/step - loss: 2.5943 - accuracy: 0.6000 - val_loss: 0.5348 - val_accuracy: 0.7000\n",
            "Epoch 97/200\n",
            "1/2 [==============>...............] - ETA: 0s - loss: 2.2705 - accuracy: 0.6250\n",
            "Epoch 00097: val_loss did not improve from 0.45943\n",
            "2/2 [==============================] - 0s 36ms/step - loss: 2.2879 - accuracy: 0.6000 - val_loss: 0.5398 - val_accuracy: 0.7000\n",
            "Epoch 98/200\n",
            "1/2 [==============>...............] - ETA: 0s - loss: 2.2880 - accuracy: 0.5312\n",
            "Epoch 00098: val_loss did not improve from 0.45943\n",
            "2/2 [==============================] - 0s 28ms/step - loss: 2.0504 - accuracy: 0.6000 - val_loss: 0.5468 - val_accuracy: 0.7000\n",
            "Epoch 99/200\n",
            "1/2 [==============>...............] - ETA: 0s - loss: 3.6520 - accuracy: 0.6250\n",
            "Epoch 00099: val_loss did not improve from 0.45943\n",
            "2/2 [==============================] - 0s 36ms/step - loss: 3.5108 - accuracy: 0.6250 - val_loss: 0.5457 - val_accuracy: 0.7000\n",
            "Epoch 100/200\n",
            "1/2 [==============>...............] - ETA: 0s - loss: 2.7226 - accuracy: 0.5625\n",
            "Epoch 00100: val_loss did not improve from 0.45943\n",
            "2/2 [==============================] - 0s 33ms/step - loss: 2.7113 - accuracy: 0.5500 - val_loss: 0.5382 - val_accuracy: 0.7000\n",
            "Epoch 101/200\n",
            "1/2 [==============>...............] - ETA: 0s - loss: 2.1789 - accuracy: 0.5625\n",
            "Epoch 00101: val_loss did not improve from 0.45943\n",
            "2/2 [==============================] - 0s 34ms/step - loss: 2.1855 - accuracy: 0.5000 - val_loss: 0.5335 - val_accuracy: 0.7000\n",
            "Epoch 102/200\n",
            "1/2 [==============>...............] - ETA: 0s - loss: 3.4598 - accuracy: 0.4688\n",
            "Epoch 00102: val_loss did not improve from 0.45943\n",
            "2/2 [==============================] - 0s 32ms/step - loss: 3.2362 - accuracy: 0.4500 - val_loss: 0.5321 - val_accuracy: 0.7000\n",
            "Epoch 103/200\n",
            "1/2 [==============>...............] - ETA: 0s - loss: 2.1556 - accuracy: 0.6875\n",
            "Epoch 00103: val_loss did not improve from 0.45943\n",
            "2/2 [==============================] - 0s 36ms/step - loss: 2.1637 - accuracy: 0.6250 - val_loss: 0.5313 - val_accuracy: 0.7000\n",
            "Epoch 104/200\n",
            "1/2 [==============>...............] - ETA: 0s - loss: 2.2452 - accuracy: 0.5312\n",
            "Epoch 00104: val_loss did not improve from 0.45943\n",
            "2/2 [==============================] - 0s 28ms/step - loss: 2.7719 - accuracy: 0.5250 - val_loss: 0.5342 - val_accuracy: 0.7000\n",
            "Epoch 105/200\n",
            "1/2 [==============>...............] - ETA: 0s - loss: 1.2403 - accuracy: 0.6562\n",
            "Epoch 00105: val_loss did not improve from 0.45943\n",
            "2/2 [==============================] - 0s 28ms/step - loss: 1.0400 - accuracy: 0.7000 - val_loss: 0.5354 - val_accuracy: 0.7000\n",
            "Epoch 106/200\n",
            "1/2 [==============>...............] - ETA: 0s - loss: 2.1479 - accuracy: 0.5938\n",
            "Epoch 00106: val_loss did not improve from 0.45943\n",
            "2/2 [==============================] - 0s 34ms/step - loss: 1.9137 - accuracy: 0.6250 - val_loss: 0.5367 - val_accuracy: 0.7000\n",
            "Epoch 107/200\n",
            "1/2 [==============>...............] - ETA: 0s - loss: 1.3605 - accuracy: 0.5938\n",
            "Epoch 00107: val_loss did not improve from 0.45943\n",
            "2/2 [==============================] - 0s 28ms/step - loss: 1.3858 - accuracy: 0.5750 - val_loss: 0.5404 - val_accuracy: 0.7000\n",
            "Epoch 108/200\n",
            "1/2 [==============>...............] - ETA: 0s - loss: 2.0128 - accuracy: 0.5938\n",
            "Epoch 00108: val_loss did not improve from 0.45943\n",
            "2/2 [==============================] - 0s 32ms/step - loss: 1.8358 - accuracy: 0.6250 - val_loss: 0.5429 - val_accuracy: 0.7000\n",
            "Epoch 109/200\n",
            "1/2 [==============>...............] - ETA: 0s - loss: 2.2174 - accuracy: 0.6250\n",
            "Epoch 00109: val_loss did not improve from 0.45943\n",
            "2/2 [==============================] - 0s 34ms/step - loss: 2.3028 - accuracy: 0.6500 - val_loss: 0.5429 - val_accuracy: 0.7000\n",
            "Epoch 110/200\n",
            "1/2 [==============>...............] - ETA: 0s - loss: 2.4655 - accuracy: 0.5312\n",
            "Epoch 00110: val_loss did not improve from 0.45943\n",
            "2/2 [==============================] - 0s 34ms/step - loss: 2.3592 - accuracy: 0.5750 - val_loss: 0.5414 - val_accuracy: 0.7000\n",
            "Epoch 111/200\n",
            "1/2 [==============>...............] - ETA: 0s - loss: 2.3597 - accuracy: 0.6250\n",
            "Epoch 00111: val_loss did not improve from 0.45943\n",
            "2/2 [==============================] - 0s 31ms/step - loss: 2.2250 - accuracy: 0.6250 - val_loss: 0.5375 - val_accuracy: 0.7000\n",
            "Epoch 112/200\n",
            "1/2 [==============>...............] - ETA: 0s - loss: 1.8439 - accuracy: 0.7188\n",
            "Epoch 00112: val_loss did not improve from 0.45943\n",
            "2/2 [==============================] - 0s 36ms/step - loss: 3.0146 - accuracy: 0.6000 - val_loss: 0.5333 - val_accuracy: 0.7000\n",
            "Epoch 113/200\n",
            "1/2 [==============>...............] - ETA: 0s - loss: 1.9984 - accuracy: 0.7188\n",
            "Epoch 00113: val_loss did not improve from 0.45943\n",
            "2/2 [==============================] - 0s 33ms/step - loss: 1.8063 - accuracy: 0.7000 - val_loss: 0.5306 - val_accuracy: 0.7000\n",
            "Epoch 114/200\n",
            "1/2 [==============>...............] - ETA: 0s - loss: 1.9938 - accuracy: 0.5312\n",
            "Epoch 00114: val_loss did not improve from 0.45943\n",
            "2/2 [==============================] - 0s 33ms/step - loss: 2.0791 - accuracy: 0.5500 - val_loss: 0.5283 - val_accuracy: 0.7000\n",
            "Epoch 115/200\n",
            "1/2 [==============>...............] - ETA: 0s - loss: 1.0613 - accuracy: 0.7500\n",
            "Epoch 00115: val_loss did not improve from 0.45943\n",
            "2/2 [==============================] - 0s 32ms/step - loss: 1.5223 - accuracy: 0.7000 - val_loss: 0.5264 - val_accuracy: 0.7000\n",
            "Epoch 116/200\n",
            "1/2 [==============>...............] - ETA: 0s - loss: 2.0719 - accuracy: 0.5938\n",
            "Epoch 00116: val_loss did not improve from 0.45943\n",
            "2/2 [==============================] - 0s 33ms/step - loss: 2.1711 - accuracy: 0.6000 - val_loss: 0.5244 - val_accuracy: 0.7000\n",
            "Epoch 117/200\n",
            "1/2 [==============>...............] - ETA: 0s - loss: 2.9299 - accuracy: 0.4375\n",
            "Epoch 00117: val_loss did not improve from 0.45943\n",
            "2/2 [==============================] - 0s 34ms/step - loss: 3.5523 - accuracy: 0.4250 - val_loss: 0.5181 - val_accuracy: 0.7000\n",
            "Epoch 118/200\n",
            "1/2 [==============>...............] - ETA: 0s - loss: 1.3704 - accuracy: 0.6875\n",
            "Epoch 00118: val_loss did not improve from 0.45943\n",
            "2/2 [==============================] - 0s 47ms/step - loss: 1.8949 - accuracy: 0.6500 - val_loss: 0.5103 - val_accuracy: 0.7000\n",
            "Epoch 119/200\n",
            "1/2 [==============>...............] - ETA: 0s - loss: 1.5814 - accuracy: 0.6562\n",
            "Epoch 00119: val_loss did not improve from 0.45943\n",
            "2/2 [==============================] - 0s 36ms/step - loss: 1.6582 - accuracy: 0.6250 - val_loss: 0.5015 - val_accuracy: 0.7000\n",
            "Epoch 120/200\n",
            "1/2 [==============>...............] - ETA: 0s - loss: 1.8022 - accuracy: 0.5938\n",
            "Epoch 00120: val_loss did not improve from 0.45943\n",
            "2/2 [==============================] - 0s 30ms/step - loss: 1.5768 - accuracy: 0.6500 - val_loss: 0.4957 - val_accuracy: 0.7000\n",
            "Epoch 121/200\n",
            "1/2 [==============>...............] - ETA: 0s - loss: 1.4795 - accuracy: 0.6250\n",
            "Epoch 00121: val_loss did not improve from 0.45943\n",
            "2/2 [==============================] - 0s 31ms/step - loss: 1.4053 - accuracy: 0.6250 - val_loss: 0.4929 - val_accuracy: 0.7000\n",
            "Epoch 122/200\n",
            "1/2 [==============>...............] - ETA: 0s - loss: 2.0639 - accuracy: 0.5938\n",
            "Epoch 00122: val_loss did not improve from 0.45943\n",
            "2/2 [==============================] - 0s 30ms/step - loss: 1.9160 - accuracy: 0.6000 - val_loss: 0.4909 - val_accuracy: 0.7000\n",
            "Epoch 123/200\n",
            "1/2 [==============>...............] - ETA: 0s - loss: 1.6284 - accuracy: 0.6875\n",
            "Epoch 00123: val_loss did not improve from 0.45943\n",
            "2/2 [==============================] - 0s 32ms/step - loss: 1.5657 - accuracy: 0.6500 - val_loss: 0.4901 - val_accuracy: 0.7000\n",
            "Epoch 124/200\n",
            "1/2 [==============>...............] - ETA: 0s - loss: 1.9328 - accuracy: 0.6250\n",
            "Epoch 00124: val_loss did not improve from 0.45943\n",
            "2/2 [==============================] - 0s 30ms/step - loss: 1.8135 - accuracy: 0.6250 - val_loss: 0.4917 - val_accuracy: 0.7000\n",
            "Epoch 125/200\n",
            "1/2 [==============>...............] - ETA: 0s - loss: 1.9983 - accuracy: 0.5000\n",
            "Epoch 00125: val_loss did not improve from 0.45943\n",
            "2/2 [==============================] - 0s 32ms/step - loss: 1.9489 - accuracy: 0.5000 - val_loss: 0.4937 - val_accuracy: 0.7000\n",
            "Epoch 126/200\n",
            "1/2 [==============>...............] - ETA: 0s - loss: 2.2699 - accuracy: 0.5312\n",
            "Epoch 00126: val_loss did not improve from 0.45943\n",
            "2/2 [==============================] - 0s 40ms/step - loss: 2.5720 - accuracy: 0.4750 - val_loss: 0.4977 - val_accuracy: 0.7000\n",
            "Epoch 127/200\n",
            "1/2 [==============>...............] - ETA: 0s - loss: 1.3628 - accuracy: 0.6875\n",
            "Epoch 00127: val_loss did not improve from 0.45943\n",
            "2/2 [==============================] - 0s 33ms/step - loss: 1.2067 - accuracy: 0.7000 - val_loss: 0.5014 - val_accuracy: 0.7000\n",
            "Epoch 128/200\n",
            "1/2 [==============>...............] - ETA: 0s - loss: 1.7329 - accuracy: 0.5312\n",
            "Epoch 00128: val_loss did not improve from 0.45943\n",
            "2/2 [==============================] - 0s 47ms/step - loss: 1.6565 - accuracy: 0.5750 - val_loss: 0.5037 - val_accuracy: 0.7000\n",
            "Epoch 129/200\n",
            "1/2 [==============>...............] - ETA: 0s - loss: 1.3697 - accuracy: 0.7812\n",
            "Epoch 00129: val_loss did not improve from 0.45943\n",
            "2/2 [==============================] - 0s 30ms/step - loss: 1.2025 - accuracy: 0.8000 - val_loss: 0.5049 - val_accuracy: 0.7000\n",
            "Epoch 130/200\n",
            "1/2 [==============>...............] - ETA: 0s - loss: 1.6672 - accuracy: 0.5000\n",
            "Epoch 00130: val_loss did not improve from 0.45943\n",
            "2/2 [==============================] - 0s 37ms/step - loss: 1.8416 - accuracy: 0.5000 - val_loss: 0.5069 - val_accuracy: 0.7000\n",
            "Epoch 131/200\n",
            "1/2 [==============>...............] - ETA: 0s - loss: 1.8019 - accuracy: 0.6562\n",
            "Epoch 00131: val_loss did not improve from 0.45943\n",
            "2/2 [==============================] - 0s 34ms/step - loss: 1.5335 - accuracy: 0.7000 - val_loss: 0.5103 - val_accuracy: 0.7000\n",
            "Epoch 132/200\n",
            "1/2 [==============>...............] - ETA: 0s - loss: 1.2654 - accuracy: 0.5938\n",
            "Epoch 00132: val_loss did not improve from 0.45943\n",
            "2/2 [==============================] - 0s 32ms/step - loss: 1.1126 - accuracy: 0.6500 - val_loss: 0.5144 - val_accuracy: 0.7000\n",
            "Epoch 133/200\n",
            "1/2 [==============>...............] - ETA: 0s - loss: 1.3867 - accuracy: 0.6250\n",
            "Epoch 00133: val_loss did not improve from 0.45943\n",
            "2/2 [==============================] - 0s 34ms/step - loss: 1.3249 - accuracy: 0.6500 - val_loss: 0.5189 - val_accuracy: 0.7000\n",
            "Epoch 134/200\n",
            "1/2 [==============>...............] - ETA: 0s - loss: 1.5441 - accuracy: 0.5625\n",
            "Epoch 00134: val_loss did not improve from 0.45943\n",
            "2/2 [==============================] - 0s 32ms/step - loss: 1.3520 - accuracy: 0.5750 - val_loss: 0.5240 - val_accuracy: 0.7000\n",
            "Epoch 135/200\n",
            "1/2 [==============>...............] - ETA: 0s - loss: 1.6060 - accuracy: 0.5938\n",
            "Epoch 00135: val_loss did not improve from 0.45943\n",
            "2/2 [==============================] - 0s 37ms/step - loss: 1.4707 - accuracy: 0.5750 - val_loss: 0.5287 - val_accuracy: 0.7000\n",
            "Epoch 136/200\n",
            "1/2 [==============>...............] - ETA: 0s - loss: 2.6761 - accuracy: 0.6562\n",
            "Epoch 00136: val_loss did not improve from 0.45943\n",
            "2/2 [==============================] - 0s 37ms/step - loss: 2.2267 - accuracy: 0.7000 - val_loss: 0.5293 - val_accuracy: 0.7000\n",
            "Epoch 137/200\n",
            "1/2 [==============>...............] - ETA: 0s - loss: 1.2466 - accuracy: 0.6562\n",
            "Epoch 00137: val_loss did not improve from 0.45943\n",
            "2/2 [==============================] - 0s 37ms/step - loss: 1.1612 - accuracy: 0.6750 - val_loss: 0.5278 - val_accuracy: 0.7000\n",
            "Epoch 138/200\n",
            "1/2 [==============>...............] - ETA: 0s - loss: 1.5012 - accuracy: 0.5938\n",
            "Epoch 00138: val_loss did not improve from 0.45943\n",
            "2/2 [==============================] - 0s 37ms/step - loss: 1.4778 - accuracy: 0.6250 - val_loss: 0.5254 - val_accuracy: 0.7000\n",
            "Epoch 139/200\n",
            "1/2 [==============>...............] - ETA: 0s - loss: 1.7956 - accuracy: 0.5312\n",
            "Epoch 00139: val_loss did not improve from 0.45943\n",
            "2/2 [==============================] - 0s 37ms/step - loss: 1.5074 - accuracy: 0.6000 - val_loss: 0.5234 - val_accuracy: 0.7000\n",
            "Epoch 140/200\n",
            "1/2 [==============>...............] - ETA: 0s - loss: 1.6080 - accuracy: 0.5938\n",
            "Epoch 00140: val_loss did not improve from 0.45943\n",
            "2/2 [==============================] - 0s 44ms/step - loss: 1.5741 - accuracy: 0.5750 - val_loss: 0.5216 - val_accuracy: 0.7000\n",
            "Epoch 141/200\n",
            "1/2 [==============>...............] - ETA: 0s - loss: 1.2255 - accuracy: 0.6562\n",
            "Epoch 00141: val_loss did not improve from 0.45943\n",
            "2/2 [==============================] - 0s 29ms/step - loss: 1.1812 - accuracy: 0.6500 - val_loss: 0.5200 - val_accuracy: 0.7000\n",
            "Epoch 142/200\n",
            "1/2 [==============>...............] - ETA: 0s - loss: 1.2316 - accuracy: 0.7188\n",
            "Epoch 00142: val_loss did not improve from 0.45943\n",
            "2/2 [==============================] - 0s 34ms/step - loss: 1.3148 - accuracy: 0.6750 - val_loss: 0.5172 - val_accuracy: 0.7000\n",
            "Epoch 143/200\n",
            "1/2 [==============>...............] - ETA: 0s - loss: 1.0528 - accuracy: 0.6250\n",
            "Epoch 00143: val_loss did not improve from 0.45943\n",
            "2/2 [==============================] - 0s 32ms/step - loss: 0.9889 - accuracy: 0.6250 - val_loss: 0.5147 - val_accuracy: 0.7000\n",
            "Epoch 144/200\n",
            "1/2 [==============>...............] - ETA: 0s - loss: 1.4364 - accuracy: 0.5938\n",
            "Epoch 00144: val_loss did not improve from 0.45943\n",
            "2/2 [==============================] - 0s 30ms/step - loss: 1.4094 - accuracy: 0.5750 - val_loss: 0.5140 - val_accuracy: 0.9000\n",
            "Epoch 145/200\n",
            "1/2 [==============>...............] - ETA: 0s - loss: 1.1864 - accuracy: 0.6250\n",
            "Epoch 00145: val_loss did not improve from 0.45943\n",
            "2/2 [==============================] - 0s 37ms/step - loss: 1.1954 - accuracy: 0.6750 - val_loss: 0.5195 - val_accuracy: 0.8000\n",
            "Epoch 146/200\n",
            "1/2 [==============>...............] - ETA: 0s - loss: 1.2967 - accuracy: 0.6875\n",
            "Epoch 00146: val_loss did not improve from 0.45943\n",
            "2/2 [==============================] - 0s 31ms/step - loss: 1.2928 - accuracy: 0.6250 - val_loss: 0.5268 - val_accuracy: 0.8000\n",
            "Epoch 147/200\n",
            "1/2 [==============>...............] - ETA: 0s - loss: 1.5538 - accuracy: 0.6875\n",
            "Epoch 00147: val_loss did not improve from 0.45943\n",
            "2/2 [==============================] - 0s 34ms/step - loss: 1.4166 - accuracy: 0.7000 - val_loss: 0.5292 - val_accuracy: 0.8000\n",
            "Epoch 148/200\n",
            "1/2 [==============>...............] - ETA: 0s - loss: 2.1663 - accuracy: 0.5312\n",
            "Epoch 00148: val_loss did not improve from 0.45943\n",
            "2/2 [==============================] - 0s 35ms/step - loss: 1.7352 - accuracy: 0.6250 - val_loss: 0.5316 - val_accuracy: 0.8000\n",
            "Epoch 149/200\n",
            "1/2 [==============>...............] - ETA: 0s - loss: 0.8001 - accuracy: 0.7188\n",
            "Epoch 00149: val_loss did not improve from 0.45943\n",
            "2/2 [==============================] - 0s 29ms/step - loss: 0.8759 - accuracy: 0.7000 - val_loss: 0.5310 - val_accuracy: 0.8000\n",
            "Epoch 150/200\n",
            "1/2 [==============>...............] - ETA: 0s - loss: 1.3630 - accuracy: 0.5938\n",
            "Epoch 00150: val_loss did not improve from 0.45943\n",
            "2/2 [==============================] - 0s 32ms/step - loss: 1.2738 - accuracy: 0.6250 - val_loss: 0.5246 - val_accuracy: 0.8000\n",
            "Epoch 151/200\n",
            "1/2 [==============>...............] - ETA: 0s - loss: 2.1505 - accuracy: 0.6250\n",
            "Epoch 00151: val_loss did not improve from 0.45943\n",
            "2/2 [==============================] - 0s 31ms/step - loss: 1.9757 - accuracy: 0.6500 - val_loss: 0.5151 - val_accuracy: 0.7000\n",
            "Epoch 152/200\n",
            "1/2 [==============>...............] - ETA: 0s - loss: 1.6439 - accuracy: 0.6562\n",
            "Epoch 00152: val_loss did not improve from 0.45943\n",
            "2/2 [==============================] - 0s 37ms/step - loss: 1.7427 - accuracy: 0.6250 - val_loss: 0.5059 - val_accuracy: 0.7000\n",
            "Epoch 153/200\n",
            "1/2 [==============>...............] - ETA: 0s - loss: 0.9153 - accuracy: 0.6875\n",
            "Epoch 00153: val_loss did not improve from 0.45943\n",
            "2/2 [==============================] - 0s 33ms/step - loss: 0.9435 - accuracy: 0.6750 - val_loss: 0.4952 - val_accuracy: 0.7000\n",
            "Epoch 154/200\n",
            "1/2 [==============>...............] - ETA: 0s - loss: 1.7381 - accuracy: 0.5625\n",
            "Epoch 00154: val_loss did not improve from 0.45943\n",
            "2/2 [==============================] - 0s 28ms/step - loss: 1.4562 - accuracy: 0.6250 - val_loss: 0.4868 - val_accuracy: 0.7000\n",
            "Epoch 155/200\n",
            "1/2 [==============>...............] - ETA: 0s - loss: 0.9896 - accuracy: 0.6250\n",
            "Epoch 00155: val_loss did not improve from 0.45943\n",
            "2/2 [==============================] - 0s 30ms/step - loss: 0.9902 - accuracy: 0.6000 - val_loss: 0.4804 - val_accuracy: 0.7000\n",
            "Epoch 156/200\n",
            "1/2 [==============>...............] - ETA: 0s - loss: 0.8808 - accuracy: 0.7812\n",
            "Epoch 00156: val_loss did not improve from 0.45943\n",
            "2/2 [==============================] - 0s 30ms/step - loss: 0.8103 - accuracy: 0.7250 - val_loss: 0.4782 - val_accuracy: 0.7000\n",
            "Epoch 157/200\n",
            "1/2 [==============>...............] - ETA: 0s - loss: 0.7683 - accuracy: 0.7500\n",
            "Epoch 00157: val_loss did not improve from 0.45943\n",
            "2/2 [==============================] - 0s 31ms/step - loss: 0.8015 - accuracy: 0.7250 - val_loss: 0.4776 - val_accuracy: 0.8000\n",
            "Epoch 158/200\n",
            "1/2 [==============>...............] - ETA: 0s - loss: 1.5319 - accuracy: 0.5312\n",
            "Epoch 00158: val_loss did not improve from 0.45943\n",
            "2/2 [==============================] - 0s 31ms/step - loss: 1.5776 - accuracy: 0.5250 - val_loss: 0.4766 - val_accuracy: 0.8000\n",
            "Epoch 159/200\n",
            "1/2 [==============>...............] - ETA: 0s - loss: 1.8459 - accuracy: 0.5938\n",
            "Epoch 00159: val_loss did not improve from 0.45943\n",
            "2/2 [==============================] - 0s 36ms/step - loss: 1.5003 - accuracy: 0.6750 - val_loss: 0.4738 - val_accuracy: 0.8000\n",
            "Epoch 160/200\n",
            "1/2 [==============>...............] - ETA: 0s - loss: 1.4716 - accuracy: 0.5938\n",
            "Epoch 00160: val_loss did not improve from 0.45943\n",
            "2/2 [==============================] - 0s 33ms/step - loss: 1.2466 - accuracy: 0.6500 - val_loss: 0.4727 - val_accuracy: 0.8000\n",
            "Epoch 161/200\n",
            "1/2 [==============>...............] - ETA: 0s - loss: 1.6924 - accuracy: 0.6250\n",
            "Epoch 00161: val_loss did not improve from 0.45943\n",
            "2/2 [==============================] - 0s 30ms/step - loss: 1.4446 - accuracy: 0.6750 - val_loss: 0.4765 - val_accuracy: 0.8000\n",
            "Epoch 162/200\n",
            "1/2 [==============>...............] - ETA: 0s - loss: 0.9140 - accuracy: 0.6875\n",
            "Epoch 00162: val_loss did not improve from 0.45943\n",
            "2/2 [==============================] - 0s 33ms/step - loss: 1.3655 - accuracy: 0.6500 - val_loss: 0.4820 - val_accuracy: 0.8000\n",
            "Epoch 163/200\n",
            "1/2 [==============>...............] - ETA: 0s - loss: 1.4437 - accuracy: 0.5938\n",
            "Epoch 00163: val_loss did not improve from 0.45943\n",
            "2/2 [==============================] - 0s 43ms/step - loss: 1.4966 - accuracy: 0.5500 - val_loss: 0.4840 - val_accuracy: 0.8000\n",
            "Epoch 164/200\n",
            "1/2 [==============>...............] - ETA: 0s - loss: 0.9543 - accuracy: 0.7500\n",
            "Epoch 00164: val_loss did not improve from 0.45943\n",
            "2/2 [==============================] - 0s 35ms/step - loss: 1.1777 - accuracy: 0.7250 - val_loss: 0.4879 - val_accuracy: 0.8000\n",
            "Epoch 165/200\n",
            "1/2 [==============>...............] - ETA: 0s - loss: 0.6364 - accuracy: 0.6875\n",
            "Epoch 00165: val_loss did not improve from 0.45943\n",
            "2/2 [==============================] - 0s 33ms/step - loss: 0.8865 - accuracy: 0.6250 - val_loss: 0.4888 - val_accuracy: 0.8000\n",
            "Epoch 166/200\n",
            "1/2 [==============>...............] - ETA: 0s - loss: 1.5493 - accuracy: 0.5938\n",
            "Epoch 00166: val_loss did not improve from 0.45943\n",
            "2/2 [==============================] - 0s 33ms/step - loss: 1.5188 - accuracy: 0.6000 - val_loss: 0.4832 - val_accuracy: 0.8000\n",
            "Epoch 167/200\n",
            "1/2 [==============>...............] - ETA: 0s - loss: 1.0139 - accuracy: 0.7188\n",
            "Epoch 00167: val_loss did not improve from 0.45943\n",
            "2/2 [==============================] - 0s 33ms/step - loss: 0.9576 - accuracy: 0.7250 - val_loss: 0.4774 - val_accuracy: 0.9000\n",
            "Epoch 168/200\n",
            "1/2 [==============>...............] - ETA: 0s - loss: 1.3751 - accuracy: 0.5625\n",
            "Epoch 00168: val_loss did not improve from 0.45943\n",
            "2/2 [==============================] - 0s 33ms/step - loss: 1.1424 - accuracy: 0.6250 - val_loss: 0.4758 - val_accuracy: 0.9000\n",
            "Epoch 169/200\n",
            "1/2 [==============>...............] - ETA: 0s - loss: 0.6731 - accuracy: 0.8438\n",
            "Epoch 00169: val_loss did not improve from 0.45943\n",
            "2/2 [==============================] - 0s 34ms/step - loss: 0.8744 - accuracy: 0.7750 - val_loss: 0.4713 - val_accuracy: 0.9000\n",
            "Epoch 170/200\n",
            "1/2 [==============>...............] - ETA: 0s - loss: 0.8400 - accuracy: 0.7500\n",
            "Epoch 00170: val_loss did not improve from 0.45943\n",
            "2/2 [==============================] - 0s 52ms/step - loss: 0.9651 - accuracy: 0.7500 - val_loss: 0.4641 - val_accuracy: 0.9000\n",
            "Epoch 171/200\n",
            "1/2 [==============>...............] - ETA: 0s - loss: 0.5843 - accuracy: 0.7812\n",
            "Epoch 00171: val_loss improved from 0.45943 to 0.45792, saving model to /content/drive/MyDrive/audio_classification.hdf5\n",
            "2/2 [==============================] - 0s 83ms/step - loss: 0.5153 - accuracy: 0.8250 - val_loss: 0.4579 - val_accuracy: 0.9000\n",
            "Epoch 172/200\n",
            "1/2 [==============>...............] - ETA: 0s - loss: 1.3638 - accuracy: 0.5938\n",
            "Epoch 00172: val_loss improved from 0.45792 to 0.45666, saving model to /content/drive/MyDrive/audio_classification.hdf5\n",
            "2/2 [==============================] - 0s 74ms/step - loss: 1.2692 - accuracy: 0.6000 - val_loss: 0.4567 - val_accuracy: 0.9000\n",
            "Epoch 173/200\n",
            "1/2 [==============>...............] - ETA: 0s - loss: 1.4692 - accuracy: 0.5312\n",
            "Epoch 00173: val_loss did not improve from 0.45666\n",
            "2/2 [==============================] - 0s 31ms/step - loss: 1.2484 - accuracy: 0.6000 - val_loss: 0.4567 - val_accuracy: 0.9000\n",
            "Epoch 174/200\n",
            "1/2 [==============>...............] - ETA: 0s - loss: 1.0052 - accuracy: 0.6875\n",
            "Epoch 00174: val_loss did not improve from 0.45666\n",
            "2/2 [==============================] - 0s 33ms/step - loss: 1.0689 - accuracy: 0.7000 - val_loss: 0.4580 - val_accuracy: 0.9000\n",
            "Epoch 175/200\n",
            "1/2 [==============>...............] - ETA: 0s - loss: 1.1834 - accuracy: 0.6250\n",
            "Epoch 00175: val_loss did not improve from 0.45666\n",
            "2/2 [==============================] - 0s 37ms/step - loss: 1.2724 - accuracy: 0.6250 - val_loss: 0.4597 - val_accuracy: 0.9000\n",
            "Epoch 176/200\n",
            "1/2 [==============>...............] - ETA: 0s - loss: 0.8872 - accuracy: 0.7812\n",
            "Epoch 00176: val_loss did not improve from 0.45666\n",
            "2/2 [==============================] - 0s 32ms/step - loss: 0.8338 - accuracy: 0.7750 - val_loss: 0.4627 - val_accuracy: 0.9000\n",
            "Epoch 177/200\n",
            "1/2 [==============>...............] - ETA: 0s - loss: 1.1890 - accuracy: 0.6250\n",
            "Epoch 00177: val_loss did not improve from 0.45666\n",
            "2/2 [==============================] - 0s 32ms/step - loss: 1.0693 - accuracy: 0.6250 - val_loss: 0.4646 - val_accuracy: 0.9000\n",
            "Epoch 178/200\n",
            "1/2 [==============>...............] - ETA: 0s - loss: 0.8755 - accuracy: 0.7188\n",
            "Epoch 00178: val_loss did not improve from 0.45666\n",
            "2/2 [==============================] - 0s 35ms/step - loss: 0.9418 - accuracy: 0.7250 - val_loss: 0.4705 - val_accuracy: 0.9000\n",
            "Epoch 179/200\n",
            "1/2 [==============>...............] - ETA: 0s - loss: 0.5901 - accuracy: 0.7812\n",
            "Epoch 00179: val_loss did not improve from 0.45666\n",
            "2/2 [==============================] - 0s 30ms/step - loss: 0.6890 - accuracy: 0.7750 - val_loss: 0.4775 - val_accuracy: 0.9000\n",
            "Epoch 180/200\n",
            "1/2 [==============>...............] - ETA: 0s - loss: 1.3034 - accuracy: 0.6250\n",
            "Epoch 00180: val_loss did not improve from 0.45666\n",
            "2/2 [==============================] - 0s 36ms/step - loss: 1.3154 - accuracy: 0.6250 - val_loss: 0.4853 - val_accuracy: 0.9000\n",
            "Epoch 181/200\n",
            "1/2 [==============>...............] - ETA: 0s - loss: 0.6454 - accuracy: 0.7500\n",
            "Epoch 00181: val_loss did not improve from 0.45666\n",
            "2/2 [==============================] - 0s 34ms/step - loss: 0.7309 - accuracy: 0.7750 - val_loss: 0.4929 - val_accuracy: 0.9000\n",
            "Epoch 182/200\n",
            "1/2 [==============>...............] - ETA: 0s - loss: 0.9833 - accuracy: 0.7188\n",
            "Epoch 00182: val_loss did not improve from 0.45666\n",
            "2/2 [==============================] - 0s 45ms/step - loss: 1.0241 - accuracy: 0.7000 - val_loss: 0.4997 - val_accuracy: 0.9000\n",
            "Epoch 183/200\n",
            "1/2 [==============>...............] - ETA: 0s - loss: 0.9937 - accuracy: 0.7812\n",
            "Epoch 00183: val_loss did not improve from 0.45666\n",
            "2/2 [==============================] - 0s 34ms/step - loss: 1.0499 - accuracy: 0.7500 - val_loss: 0.5048 - val_accuracy: 0.9000\n",
            "Epoch 184/200\n",
            "1/2 [==============>...............] - ETA: 0s - loss: 1.3572 - accuracy: 0.6875\n",
            "Epoch 00184: val_loss did not improve from 0.45666\n",
            "2/2 [==============================] - 0s 56ms/step - loss: 1.1958 - accuracy: 0.7250 - val_loss: 0.5084 - val_accuracy: 0.9000\n",
            "Epoch 185/200\n",
            "1/2 [==============>...............] - ETA: 0s - loss: 0.7479 - accuracy: 0.7500\n",
            "Epoch 00185: val_loss did not improve from 0.45666\n",
            "2/2 [==============================] - 0s 31ms/step - loss: 0.8506 - accuracy: 0.7250 - val_loss: 0.5065 - val_accuracy: 0.9000\n",
            "Epoch 186/200\n",
            "1/2 [==============>...............] - ETA: 0s - loss: 1.0961 - accuracy: 0.7812\n",
            "Epoch 00186: val_loss did not improve from 0.45666\n",
            "2/2 [==============================] - 0s 34ms/step - loss: 0.9458 - accuracy: 0.8000 - val_loss: 0.5015 - val_accuracy: 0.9000\n",
            "Epoch 187/200\n",
            "1/2 [==============>...............] - ETA: 0s - loss: 1.4865 - accuracy: 0.6250\n",
            "Epoch 00187: val_loss did not improve from 0.45666\n",
            "2/2 [==============================] - 0s 28ms/step - loss: 1.2345 - accuracy: 0.6750 - val_loss: 0.4964 - val_accuracy: 0.9000\n",
            "Epoch 188/200\n",
            "1/2 [==============>...............] - ETA: 0s - loss: 1.0596 - accuracy: 0.6875\n",
            "Epoch 00188: val_loss did not improve from 0.45666\n",
            "2/2 [==============================] - 0s 40ms/step - loss: 1.0697 - accuracy: 0.7000 - val_loss: 0.4879 - val_accuracy: 0.9000\n",
            "Epoch 189/200\n",
            "1/2 [==============>...............] - ETA: 0s - loss: 0.8407 - accuracy: 0.6562\n",
            "Epoch 00189: val_loss did not improve from 0.45666\n",
            "2/2 [==============================] - 0s 30ms/step - loss: 0.8643 - accuracy: 0.6750 - val_loss: 0.4791 - val_accuracy: 0.9000\n",
            "Epoch 190/200\n",
            "1/2 [==============>...............] - ETA: 0s - loss: 0.8536 - accuracy: 0.7500\n",
            "Epoch 00190: val_loss did not improve from 0.45666\n",
            "2/2 [==============================] - 0s 37ms/step - loss: 0.9384 - accuracy: 0.7000 - val_loss: 0.4764 - val_accuracy: 0.9000\n",
            "Epoch 191/200\n",
            "1/2 [==============>...............] - ETA: 0s - loss: 1.0693 - accuracy: 0.6875\n",
            "Epoch 00191: val_loss did not improve from 0.45666\n",
            "2/2 [==============================] - 0s 31ms/step - loss: 1.0607 - accuracy: 0.6750 - val_loss: 0.4730 - val_accuracy: 0.9000\n",
            "Epoch 192/200\n",
            "1/2 [==============>...............] - ETA: 0s - loss: 0.6095 - accuracy: 0.7500\n",
            "Epoch 00192: val_loss did not improve from 0.45666\n",
            "2/2 [==============================] - 0s 37ms/step - loss: 0.6523 - accuracy: 0.7500 - val_loss: 0.4680 - val_accuracy: 0.9000\n",
            "Epoch 193/200\n",
            "1/2 [==============>...............] - ETA: 0s - loss: 0.9731 - accuracy: 0.7188\n",
            "Epoch 00193: val_loss did not improve from 0.45666\n",
            "2/2 [==============================] - 0s 31ms/step - loss: 1.2777 - accuracy: 0.6500 - val_loss: 0.4632 - val_accuracy: 0.9000\n",
            "Epoch 194/200\n",
            "1/2 [==============>...............] - ETA: 0s - loss: 1.2326 - accuracy: 0.7812\n",
            "Epoch 00194: val_loss did not improve from 0.45666\n",
            "2/2 [==============================] - 0s 38ms/step - loss: 1.1622 - accuracy: 0.7750 - val_loss: 0.4597 - val_accuracy: 0.9000\n",
            "Epoch 195/200\n",
            "1/2 [==============>...............] - ETA: 0s - loss: 0.8986 - accuracy: 0.7188\n",
            "Epoch 00195: val_loss improved from 0.45666 to 0.45639, saving model to /content/drive/MyDrive/audio_classification.hdf5\n",
            "2/2 [==============================] - 0s 81ms/step - loss: 1.0216 - accuracy: 0.7000 - val_loss: 0.4564 - val_accuracy: 0.9000\n",
            "Epoch 196/200\n",
            "1/2 [==============>...............] - ETA: 0s - loss: 0.9332 - accuracy: 0.6875\n",
            "Epoch 00196: val_loss improved from 0.45639 to 0.45269, saving model to /content/drive/MyDrive/audio_classification.hdf5\n",
            "2/2 [==============================] - 0s 179ms/step - loss: 0.7914 - accuracy: 0.7250 - val_loss: 0.4527 - val_accuracy: 0.9000\n",
            "Epoch 197/200\n",
            "1/2 [==============>...............] - ETA: 0s - loss: 0.7794 - accuracy: 0.7812\n",
            "Epoch 00197: val_loss improved from 0.45269 to 0.44673, saving model to /content/drive/MyDrive/audio_classification.hdf5\n",
            "2/2 [==============================] - 0s 84ms/step - loss: 0.7468 - accuracy: 0.7750 - val_loss: 0.4467 - val_accuracy: 0.9000\n",
            "Epoch 198/200\n",
            "1/2 [==============>...............] - ETA: 0s - loss: 0.5431 - accuracy: 0.6875\n",
            "Epoch 00198: val_loss improved from 0.44673 to 0.44084, saving model to /content/drive/MyDrive/audio_classification.hdf5\n",
            "2/2 [==============================] - 0s 81ms/step - loss: 0.6626 - accuracy: 0.7000 - val_loss: 0.4408 - val_accuracy: 0.9000\n",
            "Epoch 199/200\n",
            "1/2 [==============>...............] - ETA: 0s - loss: 1.1186 - accuracy: 0.6562\n",
            "Epoch 00199: val_loss improved from 0.44084 to 0.43623, saving model to /content/drive/MyDrive/audio_classification.hdf5\n",
            "2/2 [==============================] - 0s 82ms/step - loss: 1.2509 - accuracy: 0.6000 - val_loss: 0.4362 - val_accuracy: 0.9000\n",
            "Epoch 200/200\n",
            "1/2 [==============>...............] - ETA: 0s - loss: 0.9320 - accuracy: 0.7188\n",
            "Epoch 00200: val_loss improved from 0.43623 to 0.43241, saving model to /content/drive/MyDrive/audio_classification.hdf5\n",
            "2/2 [==============================] - 0s 82ms/step - loss: 1.1502 - accuracy: 0.7000 - val_loss: 0.4324 - val_accuracy: 0.9000\n",
            "Training completed in time:  0:00:11.632197\n"
          ]
        }
      ]
    },
    {
      "cell_type": "code",
      "metadata": {
        "colab": {
          "base_uri": "https://localhost:8080/"
        },
        "id": "c0f_P-i_3Aq2",
        "outputId": "6f32f36c-aa31-4524-a621-6c0d6ee3ab65"
      },
      "source": [
        "test_accuracy=model.evaluate(X_test,y_test,verbose=0)\n",
        "print(test_accuracy[1])"
      ],
      "execution_count": 68,
      "outputs": [
        {
          "output_type": "stream",
          "name": "stdout",
          "text": [
            "0.8999999761581421\n"
          ]
        }
      ]
    },
    {
      "cell_type": "markdown",
      "metadata": {
        "id": "hrE7Ox1t8Zql"
      },
      "source": [
        "Testing the Model "
      ]
    },
    {
      "cell_type": "code",
      "metadata": {
        "id": "qf4CYBJ23zn6"
      },
      "source": [
        "def get_output(filepath):\n",
        "  output = []\n",
        "  mfccs_scaled_features = featuresExtractor(filepath)\n",
        "  mfccs_scaled_features = mfccs_scaled_features.reshape(1,-1)\n",
        "  # print(mfccs_scaled_features)\n",
        "  # print(mfccs_scaled_features.shape)\n",
        "  pred_label = model.predict(mfccs_scaled_features)\n",
        "  # print(pred_label)\n",
        "\n",
        "  # When label = Music\n",
        "  if (pred_label[:,0] >= pred_label[:,1]) and (pred_label[:,0] >= pred_label[:,2]):\n",
        "    output = '1', '0'\n",
        "\n",
        "  # When label = Music+Speech\n",
        "  elif (pred_label[:,1] >= pred_label[:,0]) and (pred_label[:,1] >= pred_label[:,2]):\n",
        "    output = '1', '1'\n",
        "\n",
        "  # When label = Speech\n",
        "  else:\n",
        "    output = '0, 1'\n",
        "\n",
        "  return output"
      ],
      "execution_count": 138,
      "outputs": []
    },
    {
      "cell_type": "code",
      "metadata": {
        "id": "Y6JnSDjLFWE1"
      },
      "source": [
        "filepath = '/content/drive/MyDrive/training_set_selfmade_1/music_noisy1.wav'"
      ],
      "execution_count": 139,
      "outputs": []
    },
    {
      "cell_type": "code",
      "metadata": {
        "colab": {
          "base_uri": "https://localhost:8080/"
        },
        "id": "dTTEnUvAL8-m",
        "outputId": "9634c865-de16-45b8-92b3-cc016b284144"
      },
      "source": [
        "x = get_output('/content/drive/MyDrive/spectrogram/test_sample-8.npy')\n",
        "x"
      ],
      "execution_count": 140,
      "outputs": [
        {
          "output_type": "execute_result",
          "data": {
            "text/plain": [
              "('1', '1')"
            ]
          },
          "metadata": {},
          "execution_count": 140
        }
      ]
    },
    {
      "cell_type": "code",
      "metadata": {
        "id": "icPsJ9yhF6yK"
      },
      "source": [
        "def test_data(filepath):\n",
        "  prediction = []\n",
        "  filename = os.path.basename(filepath)\n",
        "  file_name = os.path.splitext(filename)[0]\n",
        "  label = get_output(filepath)\n",
        "  prediction.append([file_name, label])\n",
        "  prediction_df = pd.DataFrame(prediction, columns=['file_name', 'Label'])\n",
        "  return prediction"
      ],
      "execution_count": 141,
      "outputs": []
    },
    {
      "cell_type": "code",
      "metadata": {
        "colab": {
          "base_uri": "https://localhost:8080/"
        },
        "id": "KFTY0SSyuowg",
        "outputId": "717ef8ae-d870-4206-f97b-6711383416b2"
      },
      "source": [
        "path = '/content/drive/MyDrive/training_set_selfmade_1/S002.wav'\n",
        "result = test_data(path)\n",
        "result\n"
      ],
      "execution_count": 142,
      "outputs": [
        {
          "output_type": "execute_result",
          "data": {
            "text/plain": [
              "[['S002', '0, 1']]"
            ]
          },
          "metadata": {},
          "execution_count": 142
        }
      ]
    },
    {
      "cell_type": "code",
      "metadata": {
        "colab": {
          "base_uri": "https://localhost:8080/"
        },
        "id": "wSt_DSRlg2jU",
        "outputId": "0dcd46ee-e17b-4ca2-f823-bac5f81d3006"
      },
      "source": [
        "path = 'test_sample-4.npy'\n",
        "result = test_data(path)\n",
        "result"
      ],
      "execution_count": 143,
      "outputs": [
        {
          "output_type": "execute_result",
          "data": {
            "text/plain": [
              "[['test_sample-4', ('1', '1')]]"
            ]
          },
          "metadata": {},
          "execution_count": 143
        }
      ]
    },
    {
      "cell_type": "code",
      "metadata": {
        "id": "rn3pQRqtm6a1"
      },
      "source": [
        " def loaded_output(directory):\n",
        "  loaded_output = []\n",
        "  for filename in os.listdir(directory):\n",
        "    f = os.path.join(directory, filename)\n",
        "    data = test_data(f)\n",
        "    loaded_output.append([data])\n",
        "    loaded_output_df = pd.DataFrame(loaded_output, columns=['Filename'])\n",
        "    task_file = loaded_output_df.to_csv('Task2.csv')\n",
        "\n",
        "  return task_file"
      ],
      "execution_count": 158,
      "outputs": []
    },
    {
      "cell_type": "code",
      "metadata": {
        "colab": {
          "base_uri": "https://localhost:8080/",
          "height": 358
        },
        "id": "CWWgd3g8BvCW",
        "outputId": "a6b5feef-5b0f-4936-960c-ca103c8bbc92"
      },
      "source": [
        "x = loaded_output('/content/drive/MyDrive/spectrogram')\n",
        "x"
      ],
      "execution_count": 153,
      "outputs": [
        {
          "output_type": "execute_result",
          "data": {
            "text/html": [
              "<div>\n",
              "<style scoped>\n",
              "    .dataframe tbody tr th:only-of-type {\n",
              "        vertical-align: middle;\n",
              "    }\n",
              "\n",
              "    .dataframe tbody tr th {\n",
              "        vertical-align: top;\n",
              "    }\n",
              "\n",
              "    .dataframe thead th {\n",
              "        text-align: right;\n",
              "    }\n",
              "</style>\n",
              "<table border=\"1\" class=\"dataframe\">\n",
              "  <thead>\n",
              "    <tr style=\"text-align: right;\">\n",
              "      <th></th>\n",
              "      <th>Filename</th>\n",
              "    </tr>\n",
              "  </thead>\n",
              "  <tbody>\n",
              "    <tr>\n",
              "      <th>0</th>\n",
              "      <td>[[test_sample-4, (1, 1)]]</td>\n",
              "    </tr>\n",
              "    <tr>\n",
              "      <th>1</th>\n",
              "      <td>[[test_sample-9, (1, 1)]]</td>\n",
              "    </tr>\n",
              "    <tr>\n",
              "      <th>2</th>\n",
              "      <td>[[test_sample-7, (1, 1)]]</td>\n",
              "    </tr>\n",
              "    <tr>\n",
              "      <th>3</th>\n",
              "      <td>[[test_sample-0, (1, 1)]]</td>\n",
              "    </tr>\n",
              "    <tr>\n",
              "      <th>4</th>\n",
              "      <td>[[test_sample-5, (1, 1)]]</td>\n",
              "    </tr>\n",
              "    <tr>\n",
              "      <th>5</th>\n",
              "      <td>[[test_sample-2, (1, 1)]]</td>\n",
              "    </tr>\n",
              "    <tr>\n",
              "      <th>6</th>\n",
              "      <td>[[test_sample-8, (1, 1)]]</td>\n",
              "    </tr>\n",
              "    <tr>\n",
              "      <th>7</th>\n",
              "      <td>[[test_sample-3, (1, 1)]]</td>\n",
              "    </tr>\n",
              "    <tr>\n",
              "      <th>8</th>\n",
              "      <td>[[test_sample-1, (1, 1)]]</td>\n",
              "    </tr>\n",
              "    <tr>\n",
              "      <th>9</th>\n",
              "      <td>[[test_sample-6, (1, 1)]]</td>\n",
              "    </tr>\n",
              "  </tbody>\n",
              "</table>\n",
              "</div>"
            ],
            "text/plain": [
              "                    Filename\n",
              "0  [[test_sample-4, (1, 1)]]\n",
              "1  [[test_sample-9, (1, 1)]]\n",
              "2  [[test_sample-7, (1, 1)]]\n",
              "3  [[test_sample-0, (1, 1)]]\n",
              "4  [[test_sample-5, (1, 1)]]\n",
              "5  [[test_sample-2, (1, 1)]]\n",
              "6  [[test_sample-8, (1, 1)]]\n",
              "7  [[test_sample-3, (1, 1)]]\n",
              "8  [[test_sample-1, (1, 1)]]\n",
              "9  [[test_sample-6, (1, 1)]]"
            ]
          },
          "metadata": {},
          "execution_count": 153
        }
      ]
    }
  ]
}